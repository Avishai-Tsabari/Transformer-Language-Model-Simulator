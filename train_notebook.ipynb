{
 "cells": [
  {
   "cell_type": "markdown",
   "id": "24a71c15",
   "metadata": {},
   "source": [
    "# IMPORTS"
   ]
  },
  {
   "cell_type": "markdown",
   "id": "73e5022e",
   "metadata": {},
   "source": [
    "#### Set Root Dir"
   ]
  },
  {
   "cell_type": "code",
   "execution_count": 1,
   "id": "9045cfd0",
   "metadata": {},
   "outputs": [],
   "source": [
    "import sys\n",
    "import os\n",
    "\n",
    "# Use the current working directory as root (or go up if needed)\n",
    "ROOT_DIR = os.path.abspath(os.path.join(os.getcwd(), '../..'))  # Adjust '..' as needed\n",
    "sys.path.append(ROOT_DIR)"
   ]
  },
  {
   "cell_type": "markdown",
   "id": "2e73e3ac",
   "metadata": {},
   "source": [
    "#### import modules"
   ]
  },
  {
   "cell_type": "code",
   "execution_count": 2,
   "id": "8a95daa7",
   "metadata": {},
   "outputs": [
    {
     "name": "stderr",
     "output_type": "stream",
     "text": [
      "c:\\code\\data_science\\demo_llm\\.venv\\Lib\\site-packages\\tqdm\\auto.py:21: TqdmWarning: IProgress not found. Please update jupyter and ipywidgets. See https://ipywidgets.readthedocs.io/en/stable/user_install.html\n",
      "  from .autonotebook import tqdm as notebook_tqdm\n"
     ]
    }
   ],
   "source": [
    "\"\"\"\n",
    "Training script for the transformer language model.\n",
    "\"\"\"\n",
    "import argparse\n",
    "import torch\n",
    "import pytorch_lightning as pl\n",
    "import pickle\n",
    "import yaml\n",
    "from pytorch_lightning.callbacks import EarlyStopping, ModelCheckpoint, LearningRateMonitor\n",
    "from pytorch_lightning.loggers import TensorBoardLogger\n",
    "from pytorch_lightning import Trainer\n",
    "\n",
    "from src.data.tokenizer import SimpleTokenizer, load_text_corpus, create_sample_corpus\n",
    "from src.data.dataset import TextDataModule\n",
    "from src.model.lightning_module import TransformerLightningModule"
   ]
  },
  {
   "cell_type": "markdown",
   "id": "07a82678",
   "metadata": {},
   "source": [
    "# Params"
   ]
  },
  {
   "cell_type": "code",
   "execution_count": 3,
   "id": "26b1aae0",
   "metadata": {},
   "outputs": [],
   "source": [
    "with open(\"config.yaml\", \"r\") as f:\n",
    "    config = yaml.safe_load(f)"
   ]
  },
  {
   "cell_type": "code",
   "execution_count": 4,
   "id": "2122d78c",
   "metadata": {},
   "outputs": [],
   "source": [
    "hparams = config[\"hparams\"]\n",
    "\n",
    "vocab_size, d_model, num_heads, num_layers, d_ff, \\\n",
    "sequence_length, batch_size, learning_rate, max_epochs, \\\n",
    "patience, min_delta, warmup_steps, weight_decay, dropout, \\\n",
    "train_split, val_split, num_workers, accelerator, devices, precision, \\\n",
    "gradient_clip_val, accumulate_grad_batches, log_every_n_steps, \\\n",
    "val_check_interval, save_top_k, monitor, mode = hparams.values()"
   ]
  },
  {
   "cell_type": "code",
   "execution_count": 5,
   "id": "80c227a5",
   "metadata": {},
   "outputs": [
    {
     "data": {
      "text/plain": [
       "{'vocab_size': 3000,\n",
       " 'd_model': 32,\n",
       " 'num_heads': 1,\n",
       " 'num_layers': 2,\n",
       " 'd_ff': 1024,\n",
       " 'sequence_length': 64,\n",
       " 'batch_size': 64,\n",
       " 'learning_rate': 0.0001,\n",
       " 'max_epochs': 100,\n",
       " 'patience': 10,\n",
       " 'min_delta': 0.001,\n",
       " 'warmup_steps': 1000,\n",
       " 'weight_decay': 0.01,\n",
       " 'dropout': 0.1,\n",
       " 'train_split': 0.7,\n",
       " 'val_split': 0.2,\n",
       " 'num_workers': 0,\n",
       " 'accelerator': 'auto',\n",
       " 'devices': 1,\n",
       " 'precision': '32',\n",
       " 'gradient_clip_val': 1.0,\n",
       " 'accumulate_grad_batches': 1,\n",
       " 'log_every_n_steps': 50,\n",
       " 'val_check_interval': 1.0,\n",
       " 'save_top_k': 3,\n",
       " 'monitor': 'val/loss',\n",
       " 'mode': 'min'}"
      ]
     },
     "execution_count": 5,
     "metadata": {},
     "output_type": "execute_result"
    }
   ],
   "source": [
    "hparams"
   ]
  },
  {
   "cell_type": "code",
   "execution_count": 6,
   "id": "e94d5d33",
   "metadata": {},
   "outputs": [],
   "source": [
    "paths = config[\"paths\"]\n",
    "general = config[\"general\"]\n",
    "\n",
    "corpus_path=paths[\"corpus_path\"]\n",
    "save_dir=paths[\"save_dir\"]\n",
    "log_dir=paths[\"log_dir\"]\n",
    "experiment_name=general[\"experiment_name\"]\n",
    "create_sample=general[\"create_sample\"]"
   ]
  },
  {
   "cell_type": "code",
   "execution_count": 7,
   "id": "0b474cfd",
   "metadata": {},
   "outputs": [
    {
     "name": "stdout",
     "output_type": "stream",
     "text": [
      "Loading and tokenizing text...\n"
     ]
    }
   ],
   "source": [
    "# Load and tokenize text\n",
    "print(\"Loading and tokenizing text...\")\n",
    "text = load_text_corpus(corpus_path)"
   ]
  },
  {
   "cell_type": "code",
   "execution_count": 8,
   "id": "9b4426c4",
   "metadata": {},
   "outputs": [
    {
     "name": "stdout",
     "output_type": "stream",
     "text": [
      "Vocabulary built with 1836 tokens\n"
     ]
    }
   ],
   "source": [
    "# Create tokenizer and build vocabulary\n",
    "tokenizer = SimpleTokenizer(vocab_size=hparams[\"vocab_size\"])\n",
    "tokenizer.build_vocab(text)"
   ]
  },
  {
   "cell_type": "code",
   "execution_count": 9,
   "id": "f874cccc",
   "metadata": {},
   "outputs": [
    {
     "name": "stdout",
     "output_type": "stream",
     "text": [
      "Vocabulary saved to ./checkpoints\\vocab.pkl\n"
     ]
    }
   ],
   "source": [
    "# Save vocabulary\n",
    "vocab_path = os.path.join(save_dir, \"vocab.pkl\")\n",
    "os.makedirs(save_dir, exist_ok=True)\n",
    "tokenizer.save_vocab(vocab_path)"
   ]
  },
  {
   "cell_type": "code",
   "execution_count": 10,
   "id": "ce1e0575",
   "metadata": {},
   "outputs": [
    {
     "data": {
      "text/plain": [
       "1836"
      ]
     },
     "execution_count": 10,
     "metadata": {},
     "output_type": "execute_result"
    }
   ],
   "source": [
    "# read vocab\n",
    "with open(vocab_path, 'rb') as f:\n",
    "    vocab = pickle.load(f)\n",
    "\n",
    "len(vocab['word_to_idx'])\n"
   ]
  },
  {
   "cell_type": "code",
   "execution_count": 11,
   "id": "0dd86e53",
   "metadata": {},
   "outputs": [
    {
     "name": "stdout",
     "output_type": "stream",
     "text": [
      "Encoded text length: 9705 tokens\n"
     ]
    }
   ],
   "source": [
    "# Encode text\n",
    "token_ids = tokenizer.encode(text)\n",
    "print(f\"Encoded text length: {len(token_ids)} tokens\")"
   ]
  },
  {
   "cell_type": "code",
   "execution_count": 12,
   "id": "3531c475",
   "metadata": {},
   "outputs": [],
   "source": [
    "# Create data module\n",
    "data_module = TextDataModule(\n",
    "    token_ids=token_ids,\n",
    "    sequence_length=sequence_length,\n",
    "    batch_size=batch_size,\n",
    "    train_split=train_split,\n",
    "    val_split=val_split,\n",
    "    num_workers=num_workers\n",
    ")"
   ]
  },
  {
   "cell_type": "code",
   "execution_count": 13,
   "id": "e160cea8",
   "metadata": {},
   "outputs": [
    {
     "name": "stderr",
     "output_type": "stream",
     "text": [
      "c:\\code\\data_science\\demo_llm\\.venv\\Lib\\site-packages\\torchmetrics\\utilities\\prints.py:62: FutureWarning: Importing `Perplexity` from `torchmetrics` was deprecated and will be removed in 2.0. Import `Perplexity` from `torchmetrics.text` instead.\n",
      "  _future_warning(\n"
     ]
    }
   ],
   "source": [
    "# Create model\n",
    "model = TransformerLightningModule(\n",
    "    vocab_size=tokenizer.get_vocab_size(),\n",
    "    d_model=d_model,\n",
    "    num_heads=num_heads,\n",
    "    num_layers=num_layers,\n",
    "    d_ff=d_ff,\n",
    "    dropout=dropout,\n",
    "    learning_rate=learning_rate,\n",
    "    weight_decay=weight_decay,\n",
    "    warmup_steps=warmup_steps\n",
    ")"
   ]
  },
  {
   "cell_type": "code",
   "execution_count": 14,
   "id": "66f73ffa",
   "metadata": {},
   "outputs": [],
   "source": [
    "# Create callbacks\n",
    "callbacks = []\n",
    "\n",
    "# Early stopping\n",
    "early_stopping = EarlyStopping(\n",
    "    monitor=monitor,\n",
    "    patience=patience,\n",
    "    min_delta=min_delta,\n",
    "    mode=mode,\n",
    "    verbose=True\n",
    ")\n",
    "callbacks.append(early_stopping)\n",
    "\n",
    "# Model checkpointing\n",
    "checkpoint_callback = ModelCheckpoint(\n",
    "    dirpath=save_dir,\n",
    "    filename=f\"{experiment_name}-{{epoch:02d}}-{{val_loss:.4f}}\",\n",
    "    monitor=monitor,\n",
    "    mode=mode,\n",
    "    save_top_k=save_top_k,\n",
    "    save_last=True,\n",
    "    verbose=True\n",
    ")\n",
    "callbacks.append(checkpoint_callback)\n",
    "\n",
    "# Learning rate monitoring\n",
    "lr_monitor = LearningRateMonitor(logging_interval='step')\n",
    "callbacks.append(lr_monitor)"
   ]
  },
  {
   "cell_type": "code",
   "execution_count": 15,
   "id": "6e196f69",
   "metadata": {},
   "outputs": [
    {
     "name": "stderr",
     "output_type": "stream",
     "text": [
      "GPU available: False, used: False\n",
      "TPU available: False, using: 0 TPU cores\n",
      "HPU available: False, using: 0 HPUs\n",
      "`Trainer(val_check_interval=1.0)` was configured so validation will run at the end of the training epoch..\n"
     ]
    }
   ],
   "source": [
    "# Create logger\n",
    "logger = TensorBoardLogger(\n",
    "    save_dir=log_dir,\n",
    "    name=experiment_name,\n",
    "    version=None\n",
    ")\n",
    "\n",
    "# Create trainer\n",
    "trainer = Trainer(\n",
    "    accelerator=accelerator,\n",
    "    devices=devices,\n",
    "    precision=precision,\n",
    "    max_epochs=max_epochs,\n",
    "    gradient_clip_val=gradient_clip_val,\n",
    "    accumulate_grad_batches=accumulate_grad_batches,\n",
    "    log_every_n_steps=log_every_n_steps,\n",
    "    val_check_interval=val_check_interval,\n",
    "    callbacks=callbacks,\n",
    "    logger=logger,\n",
    "    deterministic=True,\n",
    "    enable_progress_bar=True,\n",
    "    enable_model_summary=True\n",
    ")"
   ]
  },
  {
   "cell_type": "code",
   "execution_count": 16,
   "id": "0118a3f9",
   "metadata": {},
   "outputs": [
    {
     "name": "stdout",
     "output_type": "stream",
     "text": [
      "\n",
      "Model Summary:\n",
      "Vocabulary size: 1836\n",
      "Model parameters: 261,228\n",
      "Trainable parameters: 261,228\n"
     ]
    }
   ],
   "source": [
    "# Print model summary\n",
    "print(\"\\nModel Summary:\")\n",
    "print(f\"Vocabulary size: {tokenizer.get_vocab_size()}\")\n",
    "print(f\"Model parameters: {sum(p.numel() for p in model.parameters()):,}\")\n",
    "print(f\"Trainable parameters: {sum(p.numel() for p in model.parameters() if p.requires_grad):,}\")"
   ]
  },
  {
   "cell_type": "code",
   "execution_count": 17,
   "id": "f07fceb3",
   "metadata": {},
   "outputs": [
    {
     "name": "stdout",
     "output_type": "stream",
     "text": [
      "Data sizes:\n",
      "Total tokens: 9705\n",
      "Sequence length: 64\n",
      "Train split: 0.7\n",
      "Val split: 0.2\n",
      "Train tokens: 6793\n",
      "Val tokens: 1941\n",
      "Test tokens: 971\n"
     ]
    }
   ],
   "source": [
    "# Check data sizes\n",
    "print(\"Data sizes:\")\n",
    "print(f\"Total tokens: {len(token_ids)}\")\n",
    "print(f\"Sequence length: {sequence_length}\")\n",
    "print(f\"Train split: {train_split}\")\n",
    "print(f\"Val split: {val_split}\")\n",
    "\n",
    "# Calculate split sizes\n",
    "total_len = len(token_ids)\n",
    "train_end = int(total_len * train_split)\n",
    "val_end = int(total_len * (train_split + val_split))\n",
    "\n",
    "print(f\"Train tokens: {train_end}\")\n",
    "print(f\"Val tokens: {val_end - train_end}\")\n",
    "print(f\"Test tokens: {total_len - val_end}\")\n",
    "\n",
    "# Check if validation data is sufficient\n",
    "val_tokens = val_end - train_end\n",
    "if val_tokens < sequence_length:\n",
    "    print(f\"WARNING: Validation data has only {val_tokens} tokens, less than sequence length {sequence_length}\")\n",
    "    print(\"This will cause validation to fail. Consider using a larger corpus or adjusting splits.\")\n"
   ]
  },
  {
   "cell_type": "code",
   "execution_count": null,
   "id": "8c88831a",
   "metadata": {},
   "outputs": [
    {
     "name": "stdout",
     "output_type": "stream",
     "text": [
      "\n",
      "Starting training...\n",
      "With the updated parameters:\n",
      "- Sequence length: 64\n",
      "- Train split: 0.7\n",
      "- Val split: 0.2\n",
      "- Monitor: val/loss\n",
      "\n"
     ]
    },
    {
     "name": "stderr",
     "output_type": "stream",
     "text": [
      "c:\\code\\data_science\\demo_llm\\.venv\\Lib\\site-packages\\pytorch_lightning\\callbacks\\model_checkpoint.py:751: Checkpoint directory C:\\code\\data_science\\demo_llm\\checkpoints exists and is not empty.\n",
      "\n",
      "  | Name             | Type             | Params | Mode \n",
      "--------------------------------------------------------------\n",
      "0 | model            | TransformerLM    | 261 K  | train\n",
      "1 | criterion        | CrossEntropyLoss | 0      | train\n",
      "2 | train_perplexity | _Perplexity      | 0      | train\n",
      "3 | val_perplexity   | _Perplexity      | 0      | train\n",
      "--------------------------------------------------------------\n",
      "261 K     Trainable params\n",
      "0         Non-trainable params\n",
      "261 K     Total params\n",
      "1.045     Total estimated model params size (MB)\n",
      "37        Modules in train mode\n",
      "0         Modules in eval mode\n"
     ]
    },
    {
     "name": "stdout",
     "output_type": "stream",
     "text": [
      "Sanity Checking DataLoader 0:   0%|          | 0/2 [00:00<?, ?it/s]"
     ]
    },
    {
     "name": "stderr",
     "output_type": "stream",
     "text": [
      "c:\\code\\data_science\\demo_llm\\.venv\\Lib\\site-packages\\pytorch_lightning\\trainer\\connectors\\data_connector.py:433: The 'val_dataloader' does not have many workers which may be a bottleneck. Consider increasing the value of the `num_workers` argument` to `num_workers=15` in the `DataLoader` to improve performance.\n",
      "c:\\code\\data_science\\demo_llm\\.venv\\Lib\\site-packages\\torch\\utils\\data\\dataloader.py:666: UserWarning: 'pin_memory' argument is set as true but no accelerator is found, then device pinned memory won't be used.\n",
      "  warnings.warn(warn_msg)\n"
     ]
    },
    {
     "name": "stdout",
     "output_type": "stream",
     "text": [
      "                                                                           "
     ]
    },
    {
     "name": "stderr",
     "output_type": "stream",
     "text": [
      "c:\\code\\data_science\\demo_llm\\.venv\\Lib\\site-packages\\pytorch_lightning\\trainer\\connectors\\data_connector.py:433: The 'train_dataloader' does not have many workers which may be a bottleneck. Consider increasing the value of the `num_workers` argument` to `num_workers=15` in the `DataLoader` to improve performance.\n"
     ]
    },
    {
     "name": "stdout",
     "output_type": "stream",
     "text": [
      "Epoch 0: 100%|██████████| 106/106 [00:19<00:00,  5.44it/s, v_num=19, train/loss_step=7.620, train/perplexity_step=2.03e+3, val/loss=7.630, val/perplexity=2.07e+3, train/loss_epoch=7.670, train/perplexity_epoch=2.15e+3]"
     ]
    },
    {
     "name": "stderr",
     "output_type": "stream",
     "text": [
      "Metric val/loss improved. New best score: 7.632\n",
      "Epoch 0, global step 106: 'val/loss' reached 7.63215 (best 7.63215), saving model to 'C:\\\\code\\\\data_science\\\\demo_llm\\\\checkpoints\\\\transformer_lm-epoch=00-val_loss=0.0000.ckpt' as top 3\n"
     ]
    },
    {
     "name": "stdout",
     "output_type": "stream",
     "text": [
      "Epoch 1: 100%|██████████| 106/106 [00:19<00:00,  5.42it/s, v_num=19, train/loss_step=7.500, train/perplexity_step=1.8e+3, val/loss=7.450, val/perplexity=1.73e+3, train/loss_epoch=7.560, train/perplexity_epoch=1.92e+3] "
     ]
    },
    {
     "name": "stderr",
     "output_type": "stream",
     "text": [
      "Metric val/loss improved by 0.178 >= min_delta = 0.001. New best score: 7.454\n",
      "Epoch 1, global step 212: 'val/loss' reached 7.45436 (best 7.45436), saving model to 'C:\\\\code\\\\data_science\\\\demo_llm\\\\checkpoints\\\\transformer_lm-epoch=01-val_loss=0.0000.ckpt' as top 3\n"
     ]
    },
    {
     "name": "stdout",
     "output_type": "stream",
     "text": [
      "Epoch 2: 100%|██████████| 106/106 [00:19<00:00,  5.51it/s, v_num=19, train/loss_step=7.190, train/perplexity_step=1.32e+3, val/loss=7.260, val/perplexity=1.43e+3, train/loss_epoch=7.370, train/perplexity_epoch=1.59e+3]"
     ]
    },
    {
     "name": "stderr",
     "output_type": "stream",
     "text": [
      "Metric val/loss improved by 0.193 >= min_delta = 0.001. New best score: 7.261\n",
      "Epoch 2, global step 318: 'val/loss' reached 7.26140 (best 7.26140), saving model to 'C:\\\\code\\\\data_science\\\\demo_llm\\\\checkpoints\\\\transformer_lm-epoch=02-val_loss=0.0000-v1.ckpt' as top 3\n"
     ]
    },
    {
     "name": "stdout",
     "output_type": "stream",
     "text": [
      "Epoch 3: 100%|██████████| 106/106 [00:19<00:00,  5.48it/s, v_num=19, train/loss_step=7.200, train/perplexity_step=1.33e+3, val/loss=7.090, val/perplexity=1.2e+3, train/loss_epoch=7.200, train/perplexity_epoch=1.34e+3] "
     ]
    },
    {
     "name": "stderr",
     "output_type": "stream",
     "text": [
      "Metric val/loss improved by 0.175 >= min_delta = 0.001. New best score: 7.086\n",
      "Epoch 3, global step 424: 'val/loss' reached 7.08648 (best 7.08648), saving model to 'C:\\\\code\\\\data_science\\\\demo_llm\\\\checkpoints\\\\transformer_lm-epoch=03-val_loss=0.0000-v2.ckpt' as top 3\n"
     ]
    },
    {
     "name": "stdout",
     "output_type": "stream",
     "text": [
      "Epoch 4: 100%|██████████| 106/106 [00:19<00:00,  5.40it/s, v_num=19, train/loss_step=6.920, train/perplexity_step=1.02e+3, val/loss=6.910, val/perplexity=1.01e+3, train/loss_epoch=7.020, train/perplexity_epoch=1.13e+3]"
     ]
    },
    {
     "name": "stderr",
     "output_type": "stream",
     "text": [
      "Metric val/loss improved by 0.181 >= min_delta = 0.001. New best score: 6.906\n",
      "Epoch 4, global step 530: 'val/loss' reached 6.90562 (best 6.90562), saving model to 'C:\\\\code\\\\data_science\\\\demo_llm\\\\checkpoints\\\\transformer_lm-epoch=04-val_loss=0.0000-v3.ckpt' as top 3\n"
     ]
    },
    {
     "name": "stdout",
     "output_type": "stream",
     "text": [
      "Epoch 5: 100%|██████████| 106/106 [00:19<00:00,  5.45it/s, v_num=19, train/loss_step=6.770, train/perplexity_step=868.0, val/loss=6.710, val/perplexity=830.0, train/loss_epoch=6.840, train/perplexity_epoch=933.0]      "
     ]
    },
    {
     "name": "stderr",
     "output_type": "stream",
     "text": [
      "Metric val/loss improved by 0.196 >= min_delta = 0.001. New best score: 6.710\n",
      "Epoch 5, global step 636: 'val/loss' reached 6.70963 (best 6.70963), saving model to 'C:\\\\code\\\\data_science\\\\demo_llm\\\\checkpoints\\\\transformer_lm-epoch=05-val_loss=0.0000-v2.ckpt' as top 3\n"
     ]
    },
    {
     "name": "stdout",
     "output_type": "stream",
     "text": [
      "Epoch 6: 100%|██████████| 106/106 [00:19<00:00,  5.47it/s, v_num=19, train/loss_step=6.500, train/perplexity_step=667.0, val/loss=6.510, val/perplexity=684.0, train/loss_epoch=6.640, train/perplexity_epoch=763.0]"
     ]
    },
    {
     "name": "stderr",
     "output_type": "stream",
     "text": [
      "Metric val/loss improved by 0.199 >= min_delta = 0.001. New best score: 6.511\n",
      "Epoch 6, global step 742: 'val/loss' reached 6.51055 (best 6.51055), saving model to 'C:\\\\code\\\\data_science\\\\demo_llm\\\\checkpoints\\\\transformer_lm-epoch=06-val_loss=0.0000-v1.ckpt' as top 3\n"
     ]
    },
    {
     "name": "stdout",
     "output_type": "stream",
     "text": [
      "Epoch 7: 100%|██████████| 106/106 [00:19<00:00,  5.44it/s, v_num=19, train/loss_step=6.380, train/perplexity_step=590.0, val/loss=6.330, val/perplexity=574.0, train/loss_epoch=6.430, train/perplexity_epoch=624.0]"
     ]
    },
    {
     "name": "stderr",
     "output_type": "stream",
     "text": [
      "Metric val/loss improved by 0.183 >= min_delta = 0.001. New best score: 6.327\n",
      "Epoch 7, global step 848: 'val/loss' reached 6.32714 (best 6.32714), saving model to 'C:\\\\code\\\\data_science\\\\demo_llm\\\\checkpoints\\\\transformer_lm-epoch=07-val_loss=0.0000.ckpt' as top 3\n"
     ]
    },
    {
     "name": "stdout",
     "output_type": "stream",
     "text": [
      "Epoch 8: 100%|██████████| 106/106 [00:19<00:00,  5.46it/s, v_num=19, train/loss_step=6.100, train/perplexity_step=448.0, val/loss=6.170, val/perplexity=499.0, train/loss_epoch=6.250, train/perplexity_epoch=519.0]"
     ]
    },
    {
     "name": "stderr",
     "output_type": "stream",
     "text": [
      "Metric val/loss improved by 0.153 >= min_delta = 0.001. New best score: 6.175\n",
      "Epoch 8, global step 954: 'val/loss' reached 6.17456 (best 6.17456), saving model to 'C:\\\\code\\\\data_science\\\\demo_llm\\\\checkpoints\\\\transformer_lm-epoch=08-val_loss=0.0000.ckpt' as top 3\n"
     ]
    },
    {
     "name": "stdout",
     "output_type": "stream",
     "text": [
      "Epoch 9: 100%|██████████| 106/106 [00:19<00:00,  5.45it/s, v_num=19, train/loss_step=6.150, train/perplexity_step=469.0, val/loss=6.050, val/perplexity=447.0, train/loss_epoch=6.090, train/perplexity_epoch=441.0]"
     ]
    },
    {
     "name": "stderr",
     "output_type": "stream",
     "text": [
      "Metric val/loss improved by 0.127 >= min_delta = 0.001. New best score: 6.048\n",
      "Epoch 9, global step 1060: 'val/loss' reached 6.04783 (best 6.04783), saving model to 'C:\\\\code\\\\data_science\\\\demo_llm\\\\checkpoints\\\\transformer_lm-epoch=09-val_loss=0.0000.ckpt' as top 3\n"
     ]
    },
    {
     "name": "stdout",
     "output_type": "stream",
     "text": [
      "Epoch 10: 100%|██████████| 106/106 [00:19<00:00,  5.41it/s, v_num=19, train/loss_step=5.800, train/perplexity_step=329.0, val/loss=5.950, val/perplexity=413.0, train/loss_epoch=5.940, train/perplexity_epoch=382.0]"
     ]
    },
    {
     "name": "stderr",
     "output_type": "stream",
     "text": [
      "Metric val/loss improved by 0.099 >= min_delta = 0.001. New best score: 5.948\n",
      "Epoch 10, global step 1166: 'val/loss' reached 5.94847 (best 5.94847), saving model to 'C:\\\\code\\\\data_science\\\\demo_llm\\\\checkpoints\\\\transformer_lm-epoch=10-val_loss=0.0000-v2.ckpt' as top 3\n"
     ]
    },
    {
     "name": "stdout",
     "output_type": "stream",
     "text": [
      "Epoch 11: 100%|██████████| 106/106 [00:19<00:00,  5.54it/s, v_num=19, train/loss_step=5.790, train/perplexity_step=328.0, val/loss=5.870, val/perplexity=388.0, train/loss_epoch=5.820, train/perplexity_epoch=338.0]"
     ]
    },
    {
     "name": "stderr",
     "output_type": "stream",
     "text": [
      "Metric val/loss improved by 0.083 >= min_delta = 0.001. New best score: 5.865\n",
      "Epoch 11, global step 1272: 'val/loss' reached 5.86537 (best 5.86537), saving model to 'C:\\\\code\\\\data_science\\\\demo_llm\\\\checkpoints\\\\transformer_lm-epoch=11-val_loss=0.0000-v3.ckpt' as top 3\n"
     ]
    },
    {
     "name": "stdout",
     "output_type": "stream",
     "text": [
      "Epoch 12: 100%|██████████| 106/106 [00:20<00:00,  5.23it/s, v_num=19, train/loss_step=5.730, train/perplexity_step=307.0, val/loss=5.790, val/perplexity=367.0, train/loss_epoch=5.720, train/perplexity_epoch=304.0]"
     ]
    },
    {
     "name": "stderr",
     "output_type": "stream",
     "text": [
      "Metric val/loss improved by 0.075 >= min_delta = 0.001. New best score: 5.790\n",
      "Epoch 12, global step 1378: 'val/loss' reached 5.78992 (best 5.78992), saving model to 'C:\\\\code\\\\data_science\\\\demo_llm\\\\checkpoints\\\\transformer_lm-epoch=12-val_loss=0.0000-v3.ckpt' as top 3\n"
     ]
    },
    {
     "name": "stdout",
     "output_type": "stream",
     "text": [
      "Epoch 13: 100%|██████████| 106/106 [00:19<00:00,  5.43it/s, v_num=19, train/loss_step=5.740, train/perplexity_step=311.0, val/loss=5.730, val/perplexity=353.0, train/loss_epoch=5.620, train/perplexity_epoch=278.0]"
     ]
    },
    {
     "name": "stderr",
     "output_type": "stream",
     "text": [
      "Metric val/loss improved by 0.058 >= min_delta = 0.001. New best score: 5.732\n",
      "Epoch 13, global step 1484: 'val/loss' reached 5.73223 (best 5.73223), saving model to 'C:\\\\code\\\\data_science\\\\demo_llm\\\\checkpoints\\\\transformer_lm-epoch=13-val_loss=0.0000-v1.ckpt' as top 3\n"
     ]
    },
    {
     "name": "stdout",
     "output_type": "stream",
     "text": [
      "Epoch 14: 100%|██████████| 106/106 [00:20<00:00,  5.21it/s, v_num=19, train/loss_step=5.490, train/perplexity_step=242.0, val/loss=5.690, val/perplexity=344.0, train/loss_epoch=5.560, train/perplexity_epoch=259.0]"
     ]
    },
    {
     "name": "stderr",
     "output_type": "stream",
     "text": [
      "Metric val/loss improved by 0.042 >= min_delta = 0.001. New best score: 5.691\n",
      "Epoch 14, global step 1590: 'val/loss' reached 5.69059 (best 5.69059), saving model to 'C:\\\\code\\\\data_science\\\\demo_llm\\\\checkpoints\\\\transformer_lm-epoch=14-val_loss=0.0000.ckpt' as top 3\n"
     ]
    },
    {
     "name": "stdout",
     "output_type": "stream",
     "text": [
      "Epoch 15: 100%|██████████| 106/106 [00:19<00:00,  5.42it/s, v_num=19, train/loss_step=5.670, train/perplexity_step=291.0, val/loss=5.670, val/perplexity=339.0, train/loss_epoch=5.510, train/perplexity_epoch=247.0]"
     ]
    },
    {
     "name": "stderr",
     "output_type": "stream",
     "text": [
      "Metric val/loss improved by 0.025 >= min_delta = 0.001. New best score: 5.666\n",
      "Epoch 15, global step 1696: 'val/loss' reached 5.66576 (best 5.66576), saving model to 'C:\\\\code\\\\data_science\\\\demo_llm\\\\checkpoints\\\\transformer_lm-epoch=15-val_loss=0.0000-v1.ckpt' as top 3\n"
     ]
    },
    {
     "name": "stdout",
     "output_type": "stream",
     "text": [
      "Epoch 16: 100%|██████████| 106/106 [00:19<00:00,  5.45it/s, v_num=19, train/loss_step=5.440, train/perplexity_step=231.0, val/loss=5.650, val/perplexity=336.0, train/loss_epoch=5.480, train/perplexity_epoch=240.0]"
     ]
    },
    {
     "name": "stderr",
     "output_type": "stream",
     "text": [
      "Metric val/loss improved by 0.013 >= min_delta = 0.001. New best score: 5.653\n",
      "Epoch 16, global step 1802: 'val/loss' reached 5.65297 (best 5.65297), saving model to 'C:\\\\code\\\\data_science\\\\demo_llm\\\\checkpoints\\\\transformer_lm-epoch=16-val_loss=0.0000-v2.ckpt' as top 3\n"
     ]
    },
    {
     "name": "stdout",
     "output_type": "stream",
     "text": [
      "Epoch 17: 100%|██████████| 106/106 [00:19<00:00,  5.48it/s, v_num=19, train/loss_step=5.560, train/perplexity_step=260.0, val/loss=5.650, val/perplexity=335.0, train/loss_epoch=5.470, train/perplexity_epoch=237.0]"
     ]
    },
    {
     "name": "stderr",
     "output_type": "stream",
     "text": [
      "Metric val/loss improved by 0.004 >= min_delta = 0.001. New best score: 5.649\n",
      "Epoch 17, global step 1908: 'val/loss' reached 5.64876 (best 5.64876), saving model to 'C:\\\\code\\\\data_science\\\\demo_llm\\\\checkpoints\\\\transformer_lm-epoch=17-val_loss=0.0000-v2.ckpt' as top 3\n"
     ]
    },
    {
     "name": "stdout",
     "output_type": "stream",
     "text": [
      "Epoch 18: 100%|██████████| 106/106 [00:19<00:00,  5.42it/s, v_num=19, train/loss_step=5.360, train/perplexity_step=213.0, val/loss=5.650, val/perplexity=335.0, train/loss_epoch=5.470, train/perplexity_epoch=237.0]"
     ]
    },
    {
     "name": "stderr",
     "output_type": "stream",
     "text": [
      "Epoch 18, global step 2014: 'val/loss' reached 5.64830 (best 5.64830), saving model to 'C:\\\\code\\\\data_science\\\\demo_llm\\\\checkpoints\\\\transformer_lm-epoch=18-val_loss=0.0000-v1.ckpt' as top 3\n"
     ]
    },
    {
     "name": "stdout",
     "output_type": "stream",
     "text": [
      "Epoch 19: 100%|██████████| 106/106 [00:19<00:00,  5.37it/s, v_num=19, train/loss_step=5.480, train/perplexity_step=240.0, val/loss=5.650, val/perplexity=335.0, train/loss_epoch=5.470, train/perplexity_epoch=237.0]"
     ]
    },
    {
     "name": "stderr",
     "output_type": "stream",
     "text": [
      "Metric val/loss improved by 0.002 >= min_delta = 0.001. New best score: 5.647\n",
      "Epoch 19, global step 2120: 'val/loss' reached 5.64708 (best 5.64708), saving model to 'C:\\\\code\\\\data_science\\\\demo_llm\\\\checkpoints\\\\transformer_lm-epoch=19-val_loss=0.0000.ckpt' as top 3\n"
     ]
    },
    {
     "name": "stdout",
     "output_type": "stream",
     "text": [
      "Epoch 20: 100%|██████████| 106/106 [00:19<00:00,  5.39it/s, v_num=19, train/loss_step=5.330, train/perplexity_step=206.0, val/loss=5.640, val/perplexity=334.0, train/loss_epoch=5.460, train/perplexity_epoch=235.0]"
     ]
    },
    {
     "name": "stderr",
     "output_type": "stream",
     "text": [
      "Metric val/loss improved by 0.006 >= min_delta = 0.001. New best score: 5.641\n",
      "Epoch 20, global step 2226: 'val/loss' reached 5.64138 (best 5.64138), saving model to 'C:\\\\code\\\\data_science\\\\demo_llm\\\\checkpoints\\\\transformer_lm-epoch=20-val_loss=0.0000.ckpt' as top 3\n"
     ]
    },
    {
     "name": "stdout",
     "output_type": "stream",
     "text": [
      "Epoch 21: 100%|██████████| 106/106 [00:19<00:00,  5.46it/s, v_num=19, train/loss_step=5.350, train/perplexity_step=211.0, val/loss=5.630, val/perplexity=331.0, train/loss_epoch=5.450, train/perplexity_epoch=232.0]"
     ]
    },
    {
     "name": "stderr",
     "output_type": "stream",
     "text": [
      "Metric val/loss improved by 0.014 >= min_delta = 0.001. New best score: 5.628\n",
      "Epoch 21, global step 2332: 'val/loss' reached 5.62785 (best 5.62785), saving model to 'C:\\\\code\\\\data_science\\\\demo_llm\\\\checkpoints\\\\transformer_lm-epoch=21-val_loss=0.0000.ckpt' as top 3\n"
     ]
    },
    {
     "name": "stdout",
     "output_type": "stream",
     "text": [
      "Epoch 22: 100%|██████████| 106/106 [00:19<00:00,  5.46it/s, v_num=19, train/loss_step=5.520, train/perplexity_step=251.0, val/loss=5.600, val/perplexity=327.0, train/loss_epoch=5.420, train/perplexity_epoch=226.0]"
     ]
    },
    {
     "name": "stderr",
     "output_type": "stream",
     "text": [
      "Metric val/loss improved by 0.025 >= min_delta = 0.001. New best score: 5.603\n",
      "Epoch 22, global step 2438: 'val/loss' reached 5.60286 (best 5.60286), saving model to 'C:\\\\code\\\\data_science\\\\demo_llm\\\\checkpoints\\\\transformer_lm-epoch=22-val_loss=0.0000.ckpt' as top 3\n"
     ]
    },
    {
     "name": "stdout",
     "output_type": "stream",
     "text": [
      "Epoch 23: 100%|██████████| 106/106 [00:19<00:00,  5.45it/s, v_num=19, train/loss_step=5.460, train/perplexity_step=235.0, val/loss=5.570, val/perplexity=321.0, train/loss_epoch=5.370, train/perplexity_epoch=215.0]"
     ]
    },
    {
     "name": "stderr",
     "output_type": "stream",
     "text": [
      "Metric val/loss improved by 0.034 >= min_delta = 0.001. New best score: 5.569\n",
      "Epoch 23, global step 2544: 'val/loss' reached 5.56868 (best 5.56868), saving model to 'C:\\\\code\\\\data_science\\\\demo_llm\\\\checkpoints\\\\transformer_lm-epoch=23-val_loss=0.0000.ckpt' as top 3\n"
     ]
    },
    {
     "name": "stdout",
     "output_type": "stream",
     "text": [
      "Epoch 24: 100%|██████████| 106/106 [00:19<00:00,  5.46it/s, v_num=19, train/loss_step=5.310, train/perplexity_step=202.0, val/loss=5.520, val/perplexity=314.0, train/loss_epoch=5.310, train/perplexity_epoch=202.0]"
     ]
    },
    {
     "name": "stderr",
     "output_type": "stream",
     "text": [
      "Metric val/loss improved by 0.045 >= min_delta = 0.001. New best score: 5.524\n",
      "Epoch 24, global step 2650: 'val/loss' reached 5.52417 (best 5.52417), saving model to 'C:\\\\code\\\\data_science\\\\demo_llm\\\\checkpoints\\\\transformer_lm-epoch=24-val_loss=0.0000.ckpt' as top 3\n"
     ]
    },
    {
     "name": "stdout",
     "output_type": "stream",
     "text": [
      "Epoch 25: 100%|██████████| 106/106 [00:19<00:00,  5.43it/s, v_num=19, train/loss_step=5.100, train/perplexity_step=164.0, val/loss=5.480, val/perplexity=308.0, train/loss_epoch=5.220, train/perplexity_epoch=186.0]"
     ]
    },
    {
     "name": "stderr",
     "output_type": "stream",
     "text": [
      "Metric val/loss improved by 0.048 >= min_delta = 0.001. New best score: 5.476\n",
      "Epoch 25, global step 2756: 'val/loss' reached 5.47580 (best 5.47580), saving model to 'C:\\\\code\\\\data_science\\\\demo_llm\\\\checkpoints\\\\transformer_lm-epoch=25-val_loss=0.0000-v1.ckpt' as top 3\n"
     ]
    },
    {
     "name": "stdout",
     "output_type": "stream",
     "text": [
      "Epoch 26: 100%|██████████| 106/106 [00:20<00:00,  5.26it/s, v_num=19, train/loss_step=5.280, train/perplexity_step=196.0, val/loss=5.420, val/perplexity=301.0, train/loss_epoch=5.130, train/perplexity_epoch=169.0]"
     ]
    },
    {
     "name": "stderr",
     "output_type": "stream",
     "text": [
      "Metric val/loss improved by 0.056 >= min_delta = 0.001. New best score: 5.420\n",
      "Epoch 26, global step 2862: 'val/loss' reached 5.41998 (best 5.41998), saving model to 'C:\\\\code\\\\data_science\\\\demo_llm\\\\checkpoints\\\\transformer_lm-epoch=26-val_loss=0.0000.ckpt' as top 3\n"
     ]
    },
    {
     "name": "stdout",
     "output_type": "stream",
     "text": [
      "Epoch 27: 100%|██████████| 106/106 [00:20<00:00,  5.14it/s, v_num=19, train/loss_step=5.000, train/perplexity_step=149.0, val/loss=5.360, val/perplexity=295.0, train/loss_epoch=5.030, train/perplexity_epoch=152.0]"
     ]
    },
    {
     "name": "stderr",
     "output_type": "stream",
     "text": [
      "Metric val/loss improved by 0.057 >= min_delta = 0.001. New best score: 5.363\n",
      "Epoch 27, global step 2968: 'val/loss' reached 5.36258 (best 5.36258), saving model to 'C:\\\\code\\\\data_science\\\\demo_llm\\\\checkpoints\\\\transformer_lm-epoch=27-val_loss=0.0000-v1.ckpt' as top 3\n"
     ]
    },
    {
     "name": "stdout",
     "output_type": "stream",
     "text": [
      "Epoch 28: 100%|██████████| 106/106 [00:19<00:00,  5.37it/s, v_num=19, train/loss_step=5.050, train/perplexity_step=155.0, val/loss=5.310, val/perplexity=291.0, train/loss_epoch=4.920, train/perplexity_epoch=137.0]"
     ]
    },
    {
     "name": "stderr",
     "output_type": "stream",
     "text": [
      "Metric val/loss improved by 0.054 >= min_delta = 0.001. New best score: 5.308\n",
      "Epoch 28, global step 3074: 'val/loss' reached 5.30839 (best 5.30839), saving model to 'C:\\\\code\\\\data_science\\\\demo_llm\\\\checkpoints\\\\transformer_lm-epoch=28-val_loss=0.0000.ckpt' as top 3\n"
     ]
    },
    {
     "name": "stdout",
     "output_type": "stream",
     "text": [
      "Epoch 29: 100%|██████████| 106/106 [00:19<00:00,  5.36it/s, v_num=19, train/loss_step=4.720, train/perplexity_step=112.0, val/loss=5.260, val/perplexity=288.0, train/loss_epoch=4.810, train/perplexity_epoch=124.0]"
     ]
    },
    {
     "name": "stderr",
     "output_type": "stream",
     "text": [
      "Metric val/loss improved by 0.046 >= min_delta = 0.001. New best score: 5.263\n",
      "Epoch 29, global step 3180: 'val/loss' reached 5.26256 (best 5.26256), saving model to 'C:\\\\code\\\\data_science\\\\demo_llm\\\\checkpoints\\\\transformer_lm-epoch=29-val_loss=0.0000-v1.ckpt' as top 3\n"
     ]
    },
    {
     "name": "stdout",
     "output_type": "stream",
     "text": [
      "Epoch 30: 100%|██████████| 106/106 [00:19<00:00,  5.37it/s, v_num=19, train/loss_step=4.700, train/perplexity_step=110.0, val/loss=5.220, val/perplexity=287.0, train/loss_epoch=4.720, train/perplexity_epoch=112.0]"
     ]
    },
    {
     "name": "stderr",
     "output_type": "stream",
     "text": [
      "Metric val/loss improved by 0.040 >= min_delta = 0.001. New best score: 5.223\n",
      "Epoch 30, global step 3286: 'val/loss' reached 5.22269 (best 5.22269), saving model to 'C:\\\\code\\\\data_science\\\\demo_llm\\\\checkpoints\\\\transformer_lm-epoch=30-val_loss=0.0000-v2.ckpt' as top 3\n"
     ]
    },
    {
     "name": "stdout",
     "output_type": "stream",
     "text": [
      "Epoch 31: 100%|██████████| 106/106 [00:19<00:00,  5.34it/s, v_num=19, train/loss_step=4.470, train/perplexity_step=87.30, val/loss=5.190, val/perplexity=286.0, train/loss_epoch=4.640, train/perplexity_epoch=104.0]"
     ]
    },
    {
     "name": "stderr",
     "output_type": "stream",
     "text": [
      "Metric val/loss improved by 0.031 >= min_delta = 0.001. New best score: 5.191\n",
      "Epoch 31, global step 3392: 'val/loss' reached 5.19121 (best 5.19121), saving model to 'C:\\\\code\\\\data_science\\\\demo_llm\\\\checkpoints\\\\transformer_lm-epoch=31-val_loss=0.0000-v2.ckpt' as top 3\n"
     ]
    },
    {
     "name": "stdout",
     "output_type": "stream",
     "text": [
      "Epoch 32: 100%|██████████| 106/106 [00:20<00:00,  5.28it/s, v_num=19, train/loss_step=4.540, train/perplexity_step=93.70, val/loss=5.160, val/perplexity=285.0, train/loss_epoch=4.570, train/perplexity_epoch=97.00]"
     ]
    },
    {
     "name": "stderr",
     "output_type": "stream",
     "text": [
      "Metric val/loss improved by 0.028 >= min_delta = 0.001. New best score: 5.163\n",
      "Epoch 32, global step 3498: 'val/loss' reached 5.16298 (best 5.16298), saving model to 'C:\\\\code\\\\data_science\\\\demo_llm\\\\checkpoints\\\\transformer_lm-epoch=32-val_loss=0.0000-v1.ckpt' as top 3\n"
     ]
    },
    {
     "name": "stdout",
     "output_type": "stream",
     "text": [
      "Epoch 33: 100%|██████████| 106/106 [00:20<00:00,  5.23it/s, v_num=19, train/loss_step=4.660, train/perplexity_step=105.0, val/loss=5.150, val/perplexity=284.0, train/loss_epoch=4.530, train/perplexity_epoch=92.40]"
     ]
    },
    {
     "name": "stderr",
     "output_type": "stream",
     "text": [
      "Metric val/loss improved by 0.016 >= min_delta = 0.001. New best score: 5.147\n",
      "Epoch 33, global step 3604: 'val/loss' reached 5.14657 (best 5.14657), saving model to 'C:\\\\code\\\\data_science\\\\demo_llm\\\\checkpoints\\\\transformer_lm-epoch=33-val_loss=0.0000-v1.ckpt' as top 3\n"
     ]
    },
    {
     "name": "stdout",
     "output_type": "stream",
     "text": [
      "Epoch 34: 100%|██████████| 106/106 [00:19<00:00,  5.34it/s, v_num=19, train/loss_step=4.340, train/perplexity_step=76.90, val/loss=5.140, val/perplexity=285.0, train/loss_epoch=4.490, train/perplexity_epoch=89.40]"
     ]
    },
    {
     "name": "stderr",
     "output_type": "stream",
     "text": [
      "Metric val/loss improved by 0.010 >= min_delta = 0.001. New best score: 5.136\n",
      "Epoch 34, global step 3710: 'val/loss' reached 5.13649 (best 5.13649), saving model to 'C:\\\\code\\\\data_science\\\\demo_llm\\\\checkpoints\\\\transformer_lm-epoch=34-val_loss=0.0000.ckpt' as top 3\n"
     ]
    },
    {
     "name": "stdout",
     "output_type": "stream",
     "text": [
      "Epoch 35: 100%|██████████| 106/106 [00:19<00:00,  5.43it/s, v_num=19, train/loss_step=4.490, train/perplexity_step=88.80, val/loss=5.130, val/perplexity=285.0, train/loss_epoch=4.470, train/perplexity_epoch=87.80]"
     ]
    },
    {
     "name": "stderr",
     "output_type": "stream",
     "text": [
      "Metric val/loss improved by 0.005 >= min_delta = 0.001. New best score: 5.132\n",
      "Epoch 35, global step 3816: 'val/loss' reached 5.13156 (best 5.13156), saving model to 'C:\\\\code\\\\data_science\\\\demo_llm\\\\checkpoints\\\\transformer_lm-epoch=35-val_loss=0.0000.ckpt' as top 3\n"
     ]
    },
    {
     "name": "stdout",
     "output_type": "stream",
     "text": [
      "Epoch 36: 100%|██████████| 106/106 [00:19<00:00,  5.44it/s, v_num=19, train/loss_step=4.660, train/perplexity_step=105.0, val/loss=5.130, val/perplexity=285.0, train/loss_epoch=4.460, train/perplexity_epoch=87.00]"
     ]
    },
    {
     "name": "stderr",
     "output_type": "stream",
     "text": [
      "Metric val/loss improved by 0.001 >= min_delta = 0.001. New best score: 5.130\n",
      "Epoch 36, global step 3922: 'val/loss' reached 5.13026 (best 5.13026), saving model to 'C:\\\\code\\\\data_science\\\\demo_llm\\\\checkpoints\\\\transformer_lm-epoch=36-val_loss=0.0000.ckpt' as top 3\n"
     ]
    },
    {
     "name": "stdout",
     "output_type": "stream",
     "text": [
      "Epoch 37: 100%|██████████| 106/106 [00:20<00:00,  5.20it/s, v_num=19, train/loss_step=4.630, train/perplexity_step=103.0, val/loss=5.130, val/perplexity=285.0, train/loss_epoch=4.460, train/perplexity_epoch=86.80]"
     ]
    },
    {
     "name": "stderr",
     "output_type": "stream",
     "text": [
      "Epoch 37, global step 4028: 'val/loss' reached 5.13016 (best 5.13016), saving model to 'C:\\\\code\\\\data_science\\\\demo_llm\\\\checkpoints\\\\transformer_lm-epoch=37-val_loss=0.0000.ckpt' as top 3\n"
     ]
    },
    {
     "name": "stdout",
     "output_type": "stream",
     "text": [
      "Epoch 38: 100%|██████████| 106/106 [00:20<00:00,  5.16it/s, v_num=19, train/loss_step=4.450, train/perplexity_step=85.30, val/loss=5.130, val/perplexity=285.0, train/loss_epoch=4.460, train/perplexity_epoch=86.80]"
     ]
    },
    {
     "name": "stderr",
     "output_type": "stream",
     "text": [
      "Epoch 38, global step 4134: 'val/loss' reached 5.12937 (best 5.12937), saving model to 'C:\\\\code\\\\data_science\\\\demo_llm\\\\checkpoints\\\\transformer_lm-epoch=38-val_loss=0.0000.ckpt' as top 3\n"
     ]
    },
    {
     "name": "stdout",
     "output_type": "stream",
     "text": [
      "Epoch 39: 100%|██████████| 106/106 [00:19<00:00,  5.31it/s, v_num=19, train/loss_step=4.560, train/perplexity_step=95.30, val/loss=5.130, val/perplexity=286.0, train/loss_epoch=4.460, train/perplexity_epoch=86.50]"
     ]
    },
    {
     "name": "stderr",
     "output_type": "stream",
     "text": [
      "Metric val/loss improved by 0.002 >= min_delta = 0.001. New best score: 5.128\n",
      "Epoch 39, global step 4240: 'val/loss' reached 5.12805 (best 5.12805), saving model to 'C:\\\\code\\\\data_science\\\\demo_llm\\\\checkpoints\\\\transformer_lm-epoch=39-val_loss=0.0000.ckpt' as top 3\n"
     ]
    },
    {
     "name": "stdout",
     "output_type": "stream",
     "text": [
      "Epoch 40: 100%|██████████| 106/106 [00:20<00:00,  5.30it/s, v_num=19, train/loss_step=4.460, train/perplexity_step=86.80, val/loss=5.120, val/perplexity=286.0, train/loss_epoch=4.450, train/perplexity_epoch=85.50]"
     ]
    },
    {
     "name": "stderr",
     "output_type": "stream",
     "text": [
      "Metric val/loss improved by 0.007 >= min_delta = 0.001. New best score: 5.121\n",
      "Epoch 40, global step 4346: 'val/loss' reached 5.12105 (best 5.12105), saving model to 'C:\\\\code\\\\data_science\\\\demo_llm\\\\checkpoints\\\\transformer_lm-epoch=40-val_loss=0.0000.ckpt' as top 3\n"
     ]
    },
    {
     "name": "stdout",
     "output_type": "stream",
     "text": [
      "Epoch 41: 100%|██████████| 106/106 [00:20<00:00,  5.26it/s, v_num=19, train/loss_step=4.390, train/perplexity_step=80.30, val/loss=5.110, val/perplexity=288.0, train/loss_epoch=4.420, train/perplexity_epoch=83.50]"
     ]
    },
    {
     "name": "stderr",
     "output_type": "stream",
     "text": [
      "Metric val/loss improved by 0.008 >= min_delta = 0.001. New best score: 5.113\n",
      "Epoch 41, global step 4452: 'val/loss' reached 5.11328 (best 5.11328), saving model to 'C:\\\\code\\\\data_science\\\\demo_llm\\\\checkpoints\\\\transformer_lm-epoch=41-val_loss=0.0000.ckpt' as top 3\n"
     ]
    },
    {
     "name": "stdout",
     "output_type": "stream",
     "text": [
      "Epoch 42: 100%|██████████| 106/106 [00:21<00:00,  5.01it/s, v_num=19, train/loss_step=4.640, train/perplexity_step=103.0, val/loss=5.100, val/perplexity=289.0, train/loss_epoch=4.390, train/perplexity_epoch=80.60]"
     ]
    },
    {
     "name": "stderr",
     "output_type": "stream",
     "text": [
      "Metric val/loss improved by 0.017 >= min_delta = 0.001. New best score: 5.096\n",
      "Epoch 42, global step 4558: 'val/loss' reached 5.09597 (best 5.09597), saving model to 'C:\\\\code\\\\data_science\\\\demo_llm\\\\checkpoints\\\\transformer_lm-epoch=42-val_loss=0.0000.ckpt' as top 3\n"
     ]
    },
    {
     "name": "stdout",
     "output_type": "stream",
     "text": [
      "Epoch 43: 100%|██████████| 106/106 [00:19<00:00,  5.30it/s, v_num=19, train/loss_step=4.290, train/perplexity_step=72.80, val/loss=5.080, val/perplexity=291.0, train/loss_epoch=4.340, train/perplexity_epoch=76.80]"
     ]
    },
    {
     "name": "stderr",
     "output_type": "stream",
     "text": [
      "Metric val/loss improved by 0.017 >= min_delta = 0.001. New best score: 5.078\n",
      "Epoch 43, global step 4664: 'val/loss' reached 5.07849 (best 5.07849), saving model to 'C:\\\\code\\\\data_science\\\\demo_llm\\\\checkpoints\\\\transformer_lm-epoch=43-val_loss=0.0000.ckpt' as top 3\n"
     ]
    },
    {
     "name": "stdout",
     "output_type": "stream",
     "text": [
      "Epoch 44: 100%|██████████| 106/106 [00:21<00:00,  4.84it/s, v_num=19, train/loss_step=4.230, train/perplexity_step=68.60, val/loss=5.060, val/perplexity=296.0, train/loss_epoch=4.280, train/perplexity_epoch=72.30]"
     ]
    },
    {
     "name": "stderr",
     "output_type": "stream",
     "text": [
      "Metric val/loss improved by 0.017 >= min_delta = 0.001. New best score: 5.061\n",
      "Epoch 44, global step 4770: 'val/loss' reached 5.06135 (best 5.06135), saving model to 'C:\\\\code\\\\data_science\\\\demo_llm\\\\checkpoints\\\\transformer_lm-epoch=44-val_loss=0.0000.ckpt' as top 3\n"
     ]
    },
    {
     "name": "stdout",
     "output_type": "stream",
     "text": [
      "Epoch 45: 100%|██████████| 106/106 [00:20<00:00,  5.06it/s, v_num=19, train/loss_step=4.180, train/perplexity_step=65.20, val/loss=5.040, val/perplexity=300.0, train/loss_epoch=4.210, train/perplexity_epoch=67.50]"
     ]
    },
    {
     "name": "stderr",
     "output_type": "stream",
     "text": [
      "Metric val/loss improved by 0.022 >= min_delta = 0.001. New best score: 5.039\n",
      "Epoch 45, global step 4876: 'val/loss' reached 5.03922 (best 5.03922), saving model to 'C:\\\\code\\\\data_science\\\\demo_llm\\\\checkpoints\\\\transformer_lm-epoch=45-val_loss=0.0000.ckpt' as top 3\n"
     ]
    },
    {
     "name": "stdout",
     "output_type": "stream",
     "text": [
      "Epoch 46: 100%|██████████| 106/106 [00:20<00:00,  5.16it/s, v_num=19, train/loss_step=3.880, train/perplexity_step=48.60, val/loss=5.020, val/perplexity=306.0, train/loss_epoch=4.140, train/perplexity_epoch=62.70]"
     ]
    },
    {
     "name": "stderr",
     "output_type": "stream",
     "text": [
      "Metric val/loss improved by 0.017 >= min_delta = 0.001. New best score: 5.022\n",
      "Epoch 46, global step 4982: 'val/loss' reached 5.02177 (best 5.02177), saving model to 'C:\\\\code\\\\data_science\\\\demo_llm\\\\checkpoints\\\\transformer_lm-epoch=46-val_loss=0.0000.ckpt' as top 3\n"
     ]
    },
    {
     "name": "stdout",
     "output_type": "stream",
     "text": [
      "Epoch 47: 100%|██████████| 106/106 [00:20<00:00,  5.25it/s, v_num=19, train/loss_step=3.940, train/perplexity_step=51.60, val/loss=5.010, val/perplexity=313.0, train/loss_epoch=4.060, train/perplexity_epoch=58.20]"
     ]
    },
    {
     "name": "stderr",
     "output_type": "stream",
     "text": [
      "Metric val/loss improved by 0.016 >= min_delta = 0.001. New best score: 5.006\n",
      "Epoch 47, global step 5088: 'val/loss' reached 5.00618 (best 5.00618), saving model to 'C:\\\\code\\\\data_science\\\\demo_llm\\\\checkpoints\\\\transformer_lm-epoch=47-val_loss=0.0000.ckpt' as top 3\n"
     ]
    },
    {
     "name": "stdout",
     "output_type": "stream",
     "text": [
      "Epoch 48: 100%|██████████| 106/106 [00:20<00:00,  5.27it/s, v_num=19, train/loss_step=4.170, train/perplexity_step=64.60, val/loss=4.990, val/perplexity=319.0, train/loss_epoch=3.990, train/perplexity_epoch=54.20]"
     ]
    },
    {
     "name": "stderr",
     "output_type": "stream",
     "text": [
      "Metric val/loss improved by 0.013 >= min_delta = 0.001. New best score: 4.993\n",
      "Epoch 48, global step 5194: 'val/loss' reached 4.99296 (best 4.99296), saving model to 'C:\\\\code\\\\data_science\\\\demo_llm\\\\checkpoints\\\\transformer_lm-epoch=48-val_loss=0.0000.ckpt' as top 3\n"
     ]
    },
    {
     "name": "stdout",
     "output_type": "stream",
     "text": [
      "Epoch 49: 100%|██████████| 106/106 [00:20<00:00,  5.11it/s, v_num=19, train/loss_step=3.710, train/perplexity_step=40.90, val/loss=4.980, val/perplexity=326.0, train/loss_epoch=3.920, train/perplexity_epoch=50.70]"
     ]
    },
    {
     "name": "stderr",
     "output_type": "stream",
     "text": [
      "Metric val/loss improved by 0.010 >= min_delta = 0.001. New best score: 4.983\n",
      "Epoch 49, global step 5300: 'val/loss' reached 4.98280 (best 4.98280), saving model to 'C:\\\\code\\\\data_science\\\\demo_llm\\\\checkpoints\\\\transformer_lm-epoch=49-val_loss=0.0000.ckpt' as top 3\n"
     ]
    },
    {
     "name": "stdout",
     "output_type": "stream",
     "text": [
      "Epoch 50: 100%|██████████| 106/106 [00:20<00:00,  5.26it/s, v_num=19, train/loss_step=3.860, train/perplexity_step=47.40, val/loss=4.980, val/perplexity=333.0, train/loss_epoch=3.870, train/perplexity_epoch=48.10]"
     ]
    },
    {
     "name": "stderr",
     "output_type": "stream",
     "text": [
      "Metric val/loss improved by 0.006 >= min_delta = 0.001. New best score: 4.977\n",
      "Epoch 50, global step 5406: 'val/loss' reached 4.97715 (best 4.97715), saving model to 'C:\\\\code\\\\data_science\\\\demo_llm\\\\checkpoints\\\\transformer_lm-epoch=50-val_loss=0.0000.ckpt' as top 3\n"
     ]
    },
    {
     "name": "stdout",
     "output_type": "stream",
     "text": [
      "Epoch 51: 100%|██████████| 106/106 [00:20<00:00,  5.18it/s, v_num=19, train/loss_step=4.100, train/perplexity_step=60.20, val/loss=4.970, val/perplexity=338.0, train/loss_epoch=3.830, train/perplexity_epoch=46.00]"
     ]
    },
    {
     "name": "stderr",
     "output_type": "stream",
     "text": [
      "Metric val/loss improved by 0.005 >= min_delta = 0.001. New best score: 4.972\n",
      "Epoch 51, global step 5512: 'val/loss' reached 4.97250 (best 4.97250), saving model to 'C:\\\\code\\\\data_science\\\\demo_llm\\\\checkpoints\\\\transformer_lm-epoch=51-val_loss=0.0000.ckpt' as top 3\n"
     ]
    },
    {
     "name": "stdout",
     "output_type": "stream",
     "text": [
      "Epoch 52: 100%|██████████| 106/106 [00:20<00:00,  5.22it/s, v_num=19, train/loss_step=3.760, train/perplexity_step=42.80, val/loss=4.970, val/perplexity=342.0, train/loss_epoch=3.800, train/perplexity_epoch=44.60]"
     ]
    },
    {
     "name": "stderr",
     "output_type": "stream",
     "text": [
      "Metric val/loss improved by 0.003 >= min_delta = 0.001. New best score: 4.970\n",
      "Epoch 52, global step 5618: 'val/loss' reached 4.96961 (best 4.96961), saving model to 'C:\\\\code\\\\data_science\\\\demo_llm\\\\checkpoints\\\\transformer_lm-epoch=52-val_loss=0.0000.ckpt' as top 3\n"
     ]
    },
    {
     "name": "stdout",
     "output_type": "stream",
     "text": [
      "Epoch 53: 100%|██████████| 106/106 [00:20<00:00,  5.12it/s, v_num=19, train/loss_step=3.960, train/perplexity_step=52.20, val/loss=4.970, val/perplexity=344.0, train/loss_epoch=3.780, train/perplexity_epoch=43.70]"
     ]
    },
    {
     "name": "stderr",
     "output_type": "stream",
     "text": [
      "Metric val/loss improved by 0.001 >= min_delta = 0.001. New best score: 4.968\n",
      "Epoch 53, global step 5724: 'val/loss' reached 4.96835 (best 4.96835), saving model to 'C:\\\\code\\\\data_science\\\\demo_llm\\\\checkpoints\\\\transformer_lm-epoch=53-val_loss=0.0000.ckpt' as top 3\n"
     ]
    },
    {
     "name": "stdout",
     "output_type": "stream",
     "text": [
      "Epoch 54: 100%|██████████| 106/106 [00:21<00:00,  4.85it/s, v_num=19, train/loss_step=4.030, train/perplexity_step=56.20, val/loss=4.970, val/perplexity=346.0, train/loss_epoch=3.760, train/perplexity_epoch=43.20]"
     ]
    },
    {
     "name": "stderr",
     "output_type": "stream",
     "text": [
      "Epoch 54, global step 5830: 'val/loss' reached 4.96801 (best 4.96801), saving model to 'C:\\\\code\\\\data_science\\\\demo_llm\\\\checkpoints\\\\transformer_lm-epoch=54-val_loss=0.0000.ckpt' as top 3\n"
     ]
    },
    {
     "name": "stdout",
     "output_type": "stream",
     "text": [
      "Epoch 55: 100%|██████████| 106/106 [00:20<00:00,  5.22it/s, v_num=19, train/loss_step=3.780, train/perplexity_step=43.80, val/loss=4.970, val/perplexity=346.0, train/loss_epoch=3.760, train/perplexity_epoch=43.00]"
     ]
    },
    {
     "name": "stderr",
     "output_type": "stream",
     "text": [
      "Epoch 55, global step 5936: 'val/loss' reached 4.96783 (best 4.96783), saving model to 'C:\\\\code\\\\data_science\\\\demo_llm\\\\checkpoints\\\\transformer_lm-epoch=55-val_loss=0.0000.ckpt' as top 3\n"
     ]
    },
    {
     "name": "stdout",
     "output_type": "stream",
     "text": [
      "Epoch 56: 100%|██████████| 106/106 [00:19<00:00,  5.31it/s, v_num=19, train/loss_step=3.640, train/perplexity_step=37.90, val/loss=4.970, val/perplexity=346.0, train/loss_epoch=3.760, train/perplexity_epoch=42.90]"
     ]
    },
    {
     "name": "stderr",
     "output_type": "stream",
     "text": [
      "Epoch 56, global step 6042: 'val/loss' reached 4.96778 (best 4.96778), saving model to 'C:\\\\code\\\\data_science\\\\demo_llm\\\\checkpoints\\\\transformer_lm-epoch=56-val_loss=0.0000.ckpt' as top 3\n"
     ]
    },
    {
     "name": "stdout",
     "output_type": "stream",
     "text": [
      "Epoch 57: 100%|██████████| 106/106 [00:20<00:00,  5.23it/s, v_num=19, train/loss_step=3.650, train/perplexity_step=38.30, val/loss=4.970, val/perplexity=347.0, train/loss_epoch=3.760, train/perplexity_epoch=42.80]"
     ]
    },
    {
     "name": "stderr",
     "output_type": "stream",
     "text": [
      "Epoch 57, global step 6148: 'val/loss' reached 4.96754 (best 4.96754), saving model to 'C:\\\\code\\\\data_science\\\\demo_llm\\\\checkpoints\\\\transformer_lm-epoch=57-val_loss=0.0000.ckpt' as top 3\n"
     ]
    },
    {
     "name": "stdout",
     "output_type": "stream",
     "text": [
      "Epoch 58: 100%|██████████| 106/106 [00:19<00:00,  5.33it/s, v_num=19, train/loss_step=3.920, train/perplexity_step=50.30, val/loss=4.970, val/perplexity=347.0, train/loss_epoch=3.750, train/perplexity_epoch=42.70]"
     ]
    },
    {
     "name": "stderr",
     "output_type": "stream",
     "text": [
      "Metric val/loss improved by 0.002 >= min_delta = 0.001. New best score: 4.967\n",
      "Epoch 58, global step 6254: 'val/loss' reached 4.96684 (best 4.96684), saving model to 'C:\\\\code\\\\data_science\\\\demo_llm\\\\checkpoints\\\\transformer_lm-epoch=58-val_loss=0.0000.ckpt' as top 3\n"
     ]
    },
    {
     "name": "stdout",
     "output_type": "stream",
     "text": [
      "Epoch 59: 100%|██████████| 106/106 [00:20<00:00,  5.16it/s, v_num=19, train/loss_step=3.900, train/perplexity_step=49.40, val/loss=4.970, val/perplexity=350.0, train/loss_epoch=3.740, train/perplexity_epoch=42.30]"
     ]
    },
    {
     "name": "stderr",
     "output_type": "stream",
     "text": [
      "Epoch 59, global step 6360: 'val/loss' reached 4.96747 (best 4.96684), saving model to 'C:\\\\code\\\\data_science\\\\demo_llm\\\\checkpoints\\\\transformer_lm-epoch=59-val_loss=0.0000.ckpt' as top 3\n"
     ]
    },
    {
     "name": "stdout",
     "output_type": "stream",
     "text": [
      "Epoch 60: 100%|██████████| 106/106 [00:20<00:00,  5.26it/s, v_num=19, train/loss_step=3.940, train/perplexity_step=51.60, val/loss=4.970, val/perplexity=355.0, train/loss_epoch=3.730, train/perplexity_epoch=41.70]"
     ]
    },
    {
     "name": "stderr",
     "output_type": "stream",
     "text": [
      "Epoch 60, global step 6466: 'val/loss' was not in top 3\n"
     ]
    },
    {
     "name": "stdout",
     "output_type": "stream",
     "text": [
      "Epoch 61: 100%|██████████| 106/106 [00:19<00:00,  5.33it/s, v_num=19, train/loss_step=3.700, train/perplexity_step=40.50, val/loss=4.970, val/perplexity=361.0, train/loss_epoch=3.700, train/perplexity_epoch=40.70]"
     ]
    },
    {
     "name": "stderr",
     "output_type": "stream",
     "text": [
      "Epoch 61, global step 6572: 'val/loss' reached 4.96672 (best 4.96672), saving model to 'C:\\\\code\\\\data_science\\\\demo_llm\\\\checkpoints\\\\transformer_lm-epoch=61-val_loss=0.0000.ckpt' as top 3\n"
     ]
    },
    {
     "name": "stdout",
     "output_type": "stream",
     "text": [
      "Epoch 62: 100%|██████████| 106/106 [00:19<00:00,  5.50it/s, v_num=19, train/loss_step=3.550, train/perplexity_step=34.70, val/loss=4.970, val/perplexity=370.0, train/loss_epoch=3.670, train/perplexity_epoch=39.30]"
     ]
    },
    {
     "name": "stderr",
     "output_type": "stream",
     "text": [
      "Metric val/loss improved by 0.001 >= min_delta = 0.001. New best score: 4.966\n",
      "Epoch 62, global step 6678: 'val/loss' reached 4.96580 (best 4.96580), saving model to 'C:\\\\code\\\\data_science\\\\demo_llm\\\\checkpoints\\\\transformer_lm-epoch=62-val_loss=0.0000.ckpt' as top 3\n"
     ]
    },
    {
     "name": "stdout",
     "output_type": "stream",
     "text": [
      "Epoch 63: 100%|██████████| 106/106 [00:19<00:00,  5.47it/s, v_num=19, train/loss_step=3.560, train/perplexity_step=35.30, val/loss=4.970, val/perplexity=381.0, train/loss_epoch=3.630, train/perplexity_epoch=37.60]"
     ]
    },
    {
     "name": "stderr",
     "output_type": "stream",
     "text": [
      "Epoch 63, global step 6784: 'val/loss' was not in top 3\n"
     ]
    },
    {
     "name": "stdout",
     "output_type": "stream",
     "text": [
      "Epoch 64:  59%|█████▉    | 63/106 [00:11<00:07,  5.44it/s, v_num=19, train/loss_step=3.710, train/perplexity_step=40.70, val/loss=4.970, val/perplexity=381.0, train/loss_epoch=3.630, train/perplexity_epoch=37.60] "
     ]
    }
   ],
   "source": [
    "# Train model\n",
    "print(\"\\nStarting training...\")\n",
    "print(\"With the updated parameters:\")\n",
    "print(f\"- Sequence length: {sequence_length}\")\n",
    "print(f\"- Train split: {train_split}\")\n",
    "print(f\"- Val split: {val_split}\")\n",
    "print(f\"- Monitor: {monitor}\")\n",
    "print()\n",
    "\n",
    "trainer.fit(model, data_module)"
   ]
  },
  {
   "cell_type": "code",
   "execution_count": null,
   "id": "ad9ed8e8",
   "metadata": {},
   "outputs": [
    {
     "name": "stdout",
     "output_type": "stream",
     "text": [
      "\n",
      "Testing model...\n",
      "Testing DataLoader 0: 100%|██████████| 15/15 [00:00<00:00, 53.33it/s]\n"
     ]
    },
    {
     "data": {
      "text/html": [
       "<pre style=\"white-space:pre;overflow-x:auto;line-height:normal;font-family:Menlo,'DejaVu Sans Mono',consolas,'Courier New',monospace\">┏━━━━━━━━━━━━━━━━━━━━━━━━━━━┳━━━━━━━━━━━━━━━━━━━━━━━━━━━┓\n",
       "┃<span style=\"font-weight: bold\">        Test metric        </span>┃<span style=\"font-weight: bold\">       DataLoader 0        </span>┃\n",
       "┡━━━━━━━━━━━━━━━━━━━━━━━━━━━╇━━━━━━━━━━━━━━━━━━━━━━━━━━━┩\n",
       "│<span style=\"color: #008080; text-decoration-color: #008080\">         test/loss         </span>│<span style=\"color: #800080; text-decoration-color: #800080\">     6.511706352233887     </span>│\n",
       "└───────────────────────────┴───────────────────────────┘\n",
       "</pre>\n"
      ],
      "text/plain": [
       "┏━━━━━━━━━━━━━━━━━━━━━━━━━━━┳━━━━━━━━━━━━━━━━━━━━━━━━━━━┓\n",
       "┃\u001b[1m \u001b[0m\u001b[1m       Test metric       \u001b[0m\u001b[1m \u001b[0m┃\u001b[1m \u001b[0m\u001b[1m      DataLoader 0       \u001b[0m\u001b[1m \u001b[0m┃\n",
       "┡━━━━━━━━━━━━━━━━━━━━━━━━━━━╇━━━━━━━━━━━━━━━━━━━━━━━━━━━┩\n",
       "│\u001b[36m \u001b[0m\u001b[36m        test/loss        \u001b[0m\u001b[36m \u001b[0m│\u001b[35m \u001b[0m\u001b[35m    6.511706352233887    \u001b[0m\u001b[35m \u001b[0m│\n",
       "└───────────────────────────┴───────────────────────────┘\n"
      ]
     },
     "metadata": {},
     "output_type": "display_data"
    },
    {
     "name": "stdout",
     "output_type": "stream",
     "text": [
      "Final model saved to ./checkpoints\\transformer_lm-final.ckpt\n"
     ]
    }
   ],
   "source": [
    "# Test model\n",
    "print(\"\\nTesting model...\")\n",
    "trainer.test(model, data_module)\n",
    "\n",
    "# Save final model\n",
    "final_model_path = os.path.join(save_dir, f\"{experiment_name}-final.ckpt\")\n",
    "trainer.save_checkpoint(final_model_path)\n",
    "print(f\"Final model saved to {final_model_path}\")"
   ]
  },
  {
   "cell_type": "code",
   "execution_count": null,
   "id": "b3dc3ed9",
   "metadata": {},
   "outputs": [
    {
     "name": "stdout",
     "output_type": "stream",
     "text": [
      "\n",
      "Training completed!\n",
      "Checkpoints saved in: ./checkpoints\n",
      "Logs saved in: ./logs\n",
      "Vocabulary saved in: ./checkpoints\\vocab.pkl\n",
      "Best model: C:\\code\\data_science\\demo_llm\\checkpoints\\transformer_lm-epoch=67-val_loss=0.0000.ckpt\n",
      "Best score: 5.026226043701172\n",
      "\n",
      "==================================================\n",
      "To run the Gradio app with your trained model:\n",
      "python -m src.app.gradio_app --model_path C:\\code\\data_science\\demo_llm\\checkpoints\\transformer_lm-epoch=67-val_loss=0.0000.ckpt --vocab_path ./checkpoints\\vocab.pkl\n",
      "==================================================\n"
     ]
    }
   ],
   "source": [
    "print(\"\\nTraining completed!\")\n",
    "print(f\"Checkpoints saved in: {save_dir}\")\n",
    "print(f\"Logs saved in: {log_dir}\")\n",
    "print(f\"Vocabulary saved in: {vocab_path}\")\n",
    "print(f\"Best model: {checkpoint_callback.best_model_path}\")\n",
    "print(f\"Best score: {checkpoint_callback.best_model_score}\")\n",
    "\n",
    "# Print instructions for running the app\n",
    "print(\"\\n\" + \"=\"*50)\n",
    "print(\"To run the Gradio app with your trained model:\")\n",
    "print(f\"python -m src.app.gradio_app --model_path {checkpoint_callback.best_model_path} --vocab_path {vocab_path}\")\n",
    "print(\"=\"*50)"
   ]
  },
  {
   "cell_type": "code",
   "execution_count": null,
   "id": "57a0184d",
   "metadata": {},
   "outputs": [],
   "source": []
  }
 ],
 "metadata": {
  "kernelspec": {
   "display_name": ".venv",
   "language": "python",
   "name": "python3"
  },
  "language_info": {
   "codemirror_mode": {
    "name": "ipython",
    "version": 3
   },
   "file_extension": ".py",
   "mimetype": "text/x-python",
   "name": "python",
   "nbconvert_exporter": "python",
   "pygments_lexer": "ipython3",
   "version": "3.11.0"
  }
 },
 "nbformat": 4,
 "nbformat_minor": 5
}
