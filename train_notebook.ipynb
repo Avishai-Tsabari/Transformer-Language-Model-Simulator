{
 "cells": [
  {
   "cell_type": "markdown",
   "id": "95fe2ba7",
   "metadata": {},
   "source": [
    "# **Transformer Language Model**"
   ]
  },
  {
   "cell_type": "markdown",
   "id": "24a71c15",
   "metadata": {},
   "source": [
    "## Imports"
   ]
  },
  {
   "cell_type": "code",
   "execution_count": 1,
   "id": "a7faf2bf",
   "metadata": {},
   "outputs": [
    {
     "name": "stdout",
     "output_type": "stream",
     "text": [
      "CUDA available: True\n",
      "Device count: 1\n",
      "Current device: 0\n"
     ]
    }
   ],
   "source": [
    "import torch\n",
    "print(f\"CUDA available: {torch.cuda.is_available()}\")\n",
    "print(f\"Device count: {torch.cuda.device_count()}\")\n",
    "print(f\"Current device: {torch.cuda.current_device() if torch.cuda.is_available() else 'N/A'}\")"
   ]
  },
  {
   "cell_type": "markdown",
   "id": "73e5022e",
   "metadata": {},
   "source": [
    "#### Set Root Dir"
   ]
  },
  {
   "cell_type": "code",
   "execution_count": 2,
   "id": "9045cfd0",
   "metadata": {},
   "outputs": [],
   "source": [
    "import sys\n",
    "import os\n",
    "\n",
    "# Use the current working directory as root (or go up if needed)\n",
    "ROOT_DIR = os.path.abspath(os.path.join(os.getcwd(), '../..'))  # Adjust '..' as needed\n",
    "sys.path.append(ROOT_DIR)"
   ]
  },
  {
   "cell_type": "markdown",
   "id": "2e73e3ac",
   "metadata": {},
   "source": [
    "#### Import Modules"
   ]
  },
  {
   "cell_type": "code",
   "execution_count": 3,
   "id": "8a95daa7",
   "metadata": {},
   "outputs": [
    {
     "name": "stderr",
     "output_type": "stream",
     "text": [
      "c:\\code\\data_science\\demo_llm\\.venv\\Lib\\site-packages\\tqdm\\auto.py:21: TqdmWarning: IProgress not found. Please update jupyter and ipywidgets. See https://ipywidgets.readthedocs.io/en/stable/user_install.html\n",
      "  from .autonotebook import tqdm as notebook_tqdm\n"
     ]
    }
   ],
   "source": [
    "\"\"\"\n",
    "Training script for the transformer language model.\n",
    "\"\"\"\n",
    "import argparse\n",
    "import torch\n",
    "import pytorch_lightning as pl\n",
    "import pickle\n",
    "import yaml\n",
    "from pytorch_lightning.callbacks import EarlyStopping, ModelCheckpoint, LearningRateMonitor\n",
    "from pytorch_lightning.loggers import TensorBoardLogger\n",
    "from pytorch_lightning import Trainer\n",
    "\n",
    "from src.data.tokenizer import SimpleTokenizer, load_text_corpus, create_sample_corpus\n",
    "from src.data.tokenizer_factory import TokenizerFactory\n",
    "from src.data.dataset import TextDataModule\n",
    "from src.model.lightning_module import TransformerLightningModule"
   ]
  },
  {
   "cell_type": "markdown",
   "id": "07a82678",
   "metadata": {},
   "source": [
    "## Load Params"
   ]
  },
  {
   "cell_type": "markdown",
   "id": "1aef2483",
   "metadata": {},
   "source": [
    "#### Load yaml config"
   ]
  },
  {
   "cell_type": "code",
   "execution_count": 4,
   "id": "26b1aae0",
   "metadata": {},
   "outputs": [],
   "source": [
    "with open(\"config.yaml\", \"r\") as f:\n",
    "    config = yaml.safe_load(f)"
   ]
  },
  {
   "cell_type": "markdown",
   "id": "22be0eb5",
   "metadata": {},
   "source": [
    "#### Set hyperparams"
   ]
  },
  {
   "cell_type": "code",
   "execution_count": 5,
   "id": "2122d78c",
   "metadata": {},
   "outputs": [],
   "source": [
    "hparams = config[\"hparams\"]\n",
    "\n",
    "# this is not the best way to do unpack the hyperparams, but it's just for the demo\n",
    "vocab_size, d_model, num_heads, num_layers, d_ff, \\\n",
    "sequence_length, batch_size, learning_rate, max_epochs, \\\n",
    "patience, min_delta, warmup_steps, weight_decay, dropout, \\\n",
    "train_split, val_split, num_workers, accelerator, devices, precision, \\\n",
    "gradient_clip_val, accumulate_grad_batches, log_every_n_steps, \\\n",
    "val_check_interval, save_top_k, monitor, mode = hparams.values()"
   ]
  },
  {
   "cell_type": "code",
   "execution_count": 6,
   "id": "80c227a5",
   "metadata": {},
   "outputs": [
    {
     "data": {
      "text/plain": [
       "{'vocab_size': 8000,\n",
       " 'd_model': 8,\n",
       " 'num_heads': 1,\n",
       " 'num_layers': 2,\n",
       " 'd_ff': 32,\n",
       " 'sequence_length': 64,\n",
       " 'batch_size': 32,\n",
       " 'learning_rate': 0.0005,\n",
       " 'max_epochs': 100,\n",
       " 'patience': 10,\n",
       " 'min_delta': 0.001,\n",
       " 'warmup_steps': 1000,\n",
       " 'weight_decay': 0.01,\n",
       " 'dropout': 0.2,\n",
       " 'train_split': 0.7,\n",
       " 'val_split': 0.2,\n",
       " 'num_workers': 0,\n",
       " 'accelerator': 'gpu',\n",
       " 'devices': 1,\n",
       " 'precision': '32',\n",
       " 'gradient_clip_val': 1.0,\n",
       " 'accumulate_grad_batches': 1,\n",
       " 'log_every_n_steps': 50,\n",
       " 'val_check_interval': 1.0,\n",
       " 'save_top_k': 1,\n",
       " 'monitor': 'val/loss',\n",
       " 'mode': 'min'}"
      ]
     },
     "execution_count": 6,
     "metadata": {},
     "output_type": "execute_result"
    }
   ],
   "source": [
    "hparams"
   ]
  },
  {
   "cell_type": "markdown",
   "id": "cd9dbddb",
   "metadata": {},
   "source": [
    "#### Set paths and general config"
   ]
  },
  {
   "cell_type": "code",
   "execution_count": 7,
   "id": "e94d5d33",
   "metadata": {},
   "outputs": [],
   "source": [
    "paths = config[\"paths\"]\n",
    "general = config[\"general\"]\n",
    "\n",
    "corpus_path=paths[\"corpus_path\"]\n",
    "save_dir=paths[\"save_dir\"]\n",
    "log_dir=paths[\"log_dir\"]\n",
    "experiment_name=general[\"experiment_name\"]\n",
    "create_sample=general[\"create_sample\"]"
   ]
  },
  {
   "cell_type": "markdown",
   "id": "ccc99cda",
   "metadata": {},
   "source": [
    "## Data preprocessing"
   ]
  },
  {
   "cell_type": "markdown",
   "id": "911beab1",
   "metadata": {},
   "source": [
    "#### Load text"
   ]
  },
  {
   "cell_type": "code",
   "execution_count": 8,
   "id": "0b474cfd",
   "metadata": {},
   "outputs": [
    {
     "name": "stdout",
     "output_type": "stream",
     "text": [
      "Loading and tokenizing text...\n"
     ]
    }
   ],
   "source": [
    "# Load and tokenize text\n",
    "print(\"Loading and tokenizing text...\")\n",
    "text = load_text_corpus(corpus_path)"
   ]
  },
  {
   "cell_type": "markdown",
   "id": "6d26fac3",
   "metadata": {},
   "source": [
    "#### Tokenize"
   ]
  },
  {
   "cell_type": "code",
   "execution_count": 9,
   "id": "1a450797",
   "metadata": {},
   "outputs": [],
   "source": [
    "    # Create tokenizer and build vocabulary\n",
    "    tokenizer_config = config.get(\"tokenizer\", {})\n",
    "    tokenizer_type = tokenizer_config.get(\"type\", \"word\")\n",
    "    \n",
    "    if tokenizer_type == \"word\":\n",
    "        tokenizer = TokenizerFactory.create_tokenizer(\"word\", vocab_size=vocab_size)\n",
    "    elif tokenizer_type == \"bpe\":\n",
    "        bpe_options = tokenizer_config.get(\"bpe_options\", {})\n",
    "        tokenizer = TokenizerFactory.create_tokenizer(\"bpe\", vocab_size=vocab_size, **bpe_options)\n",
    "    else:\n",
    "        raise ValueError(f\"Unknown tokenizer type: {tokenizer_type}\")"
   ]
  },
  {
   "cell_type": "code",
   "execution_count": 10,
   "id": "9b4426c4",
   "metadata": {},
   "outputs": [
    {
     "name": "stdout",
     "output_type": "stream",
     "text": [
      "Vocabulary built with 6501 tokens\n"
     ]
    }
   ],
   "source": [
    "# Create tokenizer and build vocabulary\n",
    "# tokenizer = SimpleTokenizer(vocab_size=hparams[\"vocab_size\"])\n",
    "tokenizer.build_vocab(text)"
   ]
  },
  {
   "cell_type": "markdown",
   "id": "66eb77f3",
   "metadata": {},
   "source": [
    "#### Save vocab"
   ]
  },
  {
   "cell_type": "code",
   "execution_count": 11,
   "id": "f874cccc",
   "metadata": {},
   "outputs": [
    {
     "name": "stdout",
     "output_type": "stream",
     "text": [
      "Vocabulary saved to ./checkpoints\\vocab.pkl\n",
      "Vocabulary saved to ./checkpoints\\vocab.pkl\n"
     ]
    }
   ],
   "source": [
    "# Save vocabulary.\n",
    "# For the demo, we override the vocab file. you can adjust the vocal file name as you like.\n",
    "vocab_path = os.path.join(save_dir, \"vocab.pkl\")\n",
    "os.makedirs(save_dir, exist_ok=True)\n",
    "tokenizer.save_vocab(vocab_path)\n",
    "print(f\"Vocabulary saved to {vocab_path}\")"
   ]
  },
  {
   "cell_type": "markdown",
   "id": "382ac026",
   "metadata": {},
   "source": [
    "#### Read vocab"
   ]
  },
  {
   "cell_type": "code",
   "execution_count": 12,
   "id": "ce1e0575",
   "metadata": {},
   "outputs": [],
   "source": [
    "# read vocab\n",
    "# this step is only necessary if loading the vocab from a file instead of creating one\n",
    "with open(vocab_path, 'rb') as f:\n",
    "    vocab = pickle.load(f)\n"
   ]
  },
  {
   "cell_type": "markdown",
   "id": "8f693192",
   "metadata": {},
   "source": [
    "#### Get token ids"
   ]
  },
  {
   "cell_type": "code",
   "execution_count": 13,
   "id": "0dd86e53",
   "metadata": {},
   "outputs": [
    {
     "name": "stdout",
     "output_type": "stream",
     "text": [
      "Encoded text length: 164423 tokens\n",
      "The number of unique tokens in the vocab is: 6497\n"
     ]
    }
   ],
   "source": [
    "# Encode text\n",
    "token_ids = tokenizer.encode(text)\n",
    "print(f\"Encoded text length: {len(token_ids)} tokens\")\n",
    "print(\"The number of unique tokens in the vocab is:\", len(set(token_ids)))"
   ]
  },
  {
   "cell_type": "code",
   "execution_count": 14,
   "id": "1a07bf26",
   "metadata": {},
   "outputs": [
    {
     "name": "stdout",
     "output_type": "stream",
     "text": [
      "Decoded text: hello, it's me\n",
      "i was wondering if after all these years, you'd like to meet\n",
      "to go over everything\n",
      "th\n"
     ]
    }
   ],
   "source": [
    "ids_to_words = tokenizer.decode(token_ids)\n",
    "print(f\"Decoded text: {ids_to_words[:100]}\")\n"
   ]
  },
  {
   "cell_type": "markdown",
   "id": "7fd27c60",
   "metadata": {},
   "source": [
    "## Model Training"
   ]
  },
  {
   "cell_type": "markdown",
   "id": "f72f1611",
   "metadata": {},
   "source": [
    "#### Create data module"
   ]
  },
  {
   "cell_type": "code",
   "execution_count": 15,
   "id": "3531c475",
   "metadata": {},
   "outputs": [],
   "source": [
    "# Create data module\n",
    "data_module = TextDataModule(\n",
    "    token_ids=token_ids,\n",
    "    sequence_length=sequence_length,\n",
    "    batch_size=batch_size,\n",
    "    train_split=train_split,\n",
    "    val_split=val_split,\n",
    "    num_workers=int(os.cpu_count()*0.8) #use half of the cores   #num_workers\n",
    ")"
   ]
  },
  {
   "cell_type": "markdown",
   "id": "2c25cbd6",
   "metadata": {},
   "source": [
    "#### Create model"
   ]
  },
  {
   "cell_type": "code",
   "execution_count": 16,
   "id": "e160cea8",
   "metadata": {},
   "outputs": [],
   "source": [
    "# Create model\n",
    "model = TransformerLightningModule(\n",
    "    vocab_size=tokenizer.get_vocab_size(),\n",
    "    d_model=d_model,\n",
    "    num_heads=num_heads,\n",
    "    num_layers=num_layers,\n",
    "    d_ff=d_ff,\n",
    "    dropout=dropout,\n",
    "    learning_rate=learning_rate,\n",
    "    weight_decay=weight_decay,\n",
    "    warmup_steps=warmup_steps\n",
    ")"
   ]
  },
  {
   "cell_type": "markdown",
   "id": "d7bf90a3",
   "metadata": {},
   "source": [
    "#### Set callback"
   ]
  },
  {
   "cell_type": "code",
   "execution_count": 17,
   "id": "0db2eba5",
   "metadata": {},
   "outputs": [],
   "source": [
    "# Create callbacks\n",
    "callbacks = []\n",
    "\n",
    "# Early stopping\n",
    "early_stopping = EarlyStopping(\n",
    "    monitor=monitor,\n",
    "    patience=patience,\n",
    "    min_delta=min_delta,\n",
    "    mode=mode,\n",
    "    verbose=True\n",
    ")\n",
    "callbacks.append(early_stopping)\n",
    "\n",
    "\n",
    "# Model checkpointing\n",
    "checkpoint_callback = ModelCheckpoint(\n",
    "    dirpath=save_dir,\n",
    "    filename=f\"{experiment_name}-epoch={{epoch:02d}}-val_loss={{val/loss:.3f}}\", #-v{trainer.logger.version:02d}\",\n",
    "    monitor=monitor,\n",
    "    mode=mode,\n",
    "    auto_insert_metric_name=False, # Prevents the name 'val/loss=' from being prepended\n",
    "    save_top_k=save_top_k,\n",
    "    save_last=True,\n",
    "    verbose=True\n",
    ")\n",
    "callbacks.append(checkpoint_callback)\n",
    "\n",
    "# Learning rate monitoring\n",
    "lr_monitor = LearningRateMonitor(logging_interval='step')\n",
    "callbacks.append(lr_monitor)"
   ]
  },
  {
   "cell_type": "markdown",
   "id": "4b673769",
   "metadata": {},
   "source": [
    "#### Create trainer and logger"
   ]
  },
  {
   "cell_type": "code",
   "execution_count": 18,
   "id": "6e196f69",
   "metadata": {},
   "outputs": [
    {
     "name": "stderr",
     "output_type": "stream",
     "text": [
      "GPU available: True (cuda), used: True\n",
      "TPU available: False, using: 0 TPU cores\n",
      "HPU available: False, using: 0 HPUs\n",
      "`Trainer(val_check_interval=1.0)` was configured so validation will run at the end of the training epoch..\n"
     ]
    }
   ],
   "source": [
    "# Create logger\n",
    "logger = TensorBoardLogger(\n",
    "    save_dir=log_dir,\n",
    "    name=experiment_name,\n",
    "    version=None\n",
    ")\n",
    "\n",
    "# Create trainer\n",
    "trainer = Trainer(\n",
    "    accelerator=accelerator,\n",
    "    devices=devices,\n",
    "    precision=precision,\n",
    "    max_epochs=max_epochs,\n",
    "    gradient_clip_val=gradient_clip_val,\n",
    "    accumulate_grad_batches=accumulate_grad_batches,\n",
    "    log_every_n_steps=log_every_n_steps,\n",
    "    val_check_interval=val_check_interval,\n",
    "    callbacks=callbacks,\n",
    "    logger=logger,\n",
    "    deterministic=True,\n",
    "    enable_progress_bar=True,\n",
    "    enable_model_summary=True\n",
    ")"
   ]
  },
  {
   "cell_type": "markdown",
   "id": "389c1c0b",
   "metadata": {},
   "source": [
    "#### Summarize prepared data"
   ]
  },
  {
   "cell_type": "code",
   "execution_count": 19,
   "id": "0118a3f9",
   "metadata": {},
   "outputs": [
    {
     "name": "stdout",
     "output_type": "stream",
     "text": [
      "\n",
      "Model Summary:\n",
      "Vocabulary size: 6501\n",
      "Model parameters: 112,261\n",
      "Trainable parameters: 112,261\n",
      "Data sizes:\n",
      "Total tokens: 164423\n",
      "Sequence length: 64\n",
      "Train split: 0.7\n",
      "Val split: 0.2\n",
      "Train tokens: 115096\n",
      "Val tokens: 32884\n",
      "Test tokens: 16443\n"
     ]
    }
   ],
   "source": [
    "# Print model summary\n",
    "print(\"\\nModel Summary:\")\n",
    "print(f\"Vocabulary size: {tokenizer.get_vocab_size()}\")\n",
    "print(f\"Model parameters: {sum(p.numel() for p in model.parameters()):,}\")\n",
    "print(f\"Trainable parameters: {sum(p.numel() for p in model.parameters() if p.requires_grad):,}\")\n",
    "\n",
    "# Check data sizes\n",
    "print(\"Data sizes:\")\n",
    "print(f\"Total tokens: {len(token_ids)}\")\n",
    "print(f\"Sequence length: {sequence_length}\")\n",
    "print(f\"Train split: {train_split}\")\n",
    "print(f\"Val split: {val_split}\")\n",
    "\n",
    "# Calculate split sizes\n",
    "total_len = len(token_ids)\n",
    "train_end = int(total_len * train_split)\n",
    "val_end = int(total_len * (train_split + val_split))\n",
    "\n",
    "print(f\"Train tokens: {train_end}\")\n",
    "print(f\"Val tokens: {val_end - train_end}\")\n",
    "print(f\"Test tokens: {total_len - val_end}\")\n",
    "\n",
    "# Check if validation data is sufficient\n",
    "val_tokens = val_end - train_end\n",
    "if val_tokens < sequence_length:\n",
    "    print(f\"WARNING: Validation data has only {val_tokens} tokens, less than sequence length {sequence_length}\")\n",
    "    print(\"This will cause validation to fail. Consider using a larger corpus or adjusting splits.\")"
   ]
  },
  {
   "cell_type": "markdown",
   "id": "02efc6f7",
   "metadata": {},
   "source": [
    "#### Train the neural netork transformer"
   ]
  },
  {
   "cell_type": "code",
   "execution_count": null,
   "id": "8c88831a",
   "metadata": {},
   "outputs": [
    {
     "name": "stdout",
     "output_type": "stream",
     "text": [
      "\n",
      "Starting training...\n",
      "With the updated parameters:\n",
      "- Sequence length: 64\n",
      "- Train split: 0.7\n",
      "- Val split: 0.2\n",
      "- Monitor: val/loss\n",
      "\n"
     ]
    },
    {
     "name": "stderr",
     "output_type": "stream",
     "text": [
      "c:\\code\\data_science\\demo_llm\\.venv\\Lib\\site-packages\\pytorch_lightning\\callbacks\\model_checkpoint.py:751: Checkpoint directory C:\\code\\data_science\\demo_llm\\checkpoints exists and is not empty.\n",
      "LOCAL_RANK: 0 - CUDA_VISIBLE_DEVICES: [0]\n",
      "\n",
      "  | Name      | Type             | Params | Mode \n",
      "-------------------------------------------------------\n",
      "0 | model     | TransformerLM    | 112 K  | train\n",
      "1 | criterion | CrossEntropyLoss | 0      | train\n",
      "-------------------------------------------------------\n",
      "112 K     Trainable params\n",
      "0         Non-trainable params\n",
      "112 K     Total params\n",
      "0.449     Total estimated model params size (MB)\n",
      "35        Modules in train mode\n",
      "0         Modules in eval mode\n"
     ]
    },
    {
     "name": "stdout",
     "output_type": "stream",
     "text": [
      "Sanity Checking: |          | 0/? [00:00<?, ?it/s]"
     ]
    },
    {
     "name": "stderr",
     "output_type": "stream",
     "text": [
      "c:\\code\\data_science\\demo_llm\\.venv\\Lib\\site-packages\\pytorch_lightning\\trainer\\connectors\\data_connector.py:428: Consider setting `persistent_workers=True` in 'val_dataloader' to speed up the dataloader worker initialization.\n"
     ]
    },
    {
     "name": "stdout",
     "output_type": "stream",
     "text": [
      "                                                                           \r"
     ]
    },
    {
     "name": "stderr",
     "output_type": "stream",
     "text": [
      "c:\\code\\data_science\\demo_llm\\.venv\\Lib\\site-packages\\pytorch_lightning\\trainer\\connectors\\data_connector.py:428: Consider setting `persistent_workers=True` in 'train_dataloader' to speed up the dataloader worker initialization.\n"
     ]
    },
    {
     "name": "stdout",
     "output_type": "stream",
     "text": [
      "Epoch 0: 100%|██████████| 3595/3595 [01:56<00:00, 30.96it/s, v_num=65, train/loss_step=5.850, train/perplexity_step=349.0, val/loss=5.820, val/perplexity=379.0, train/loss_epoch=6.460, train/perplexity_epoch=1.3e+3]"
     ]
    },
    {
     "name": "stderr",
     "output_type": "stream",
     "text": [
      "Metric val/loss improved. New best score: 5.823\n",
      "Epoch 0, global step 3595: 'val/loss' reached 5.82302 (best 5.82302), saving model to 'C:\\\\code\\\\data_science\\\\demo_llm\\\\checkpoints\\\\transformer_lm-epoch=00-val_loss=5.823.ckpt' as top 1\n"
     ]
    },
    {
     "name": "stdout",
     "output_type": "stream",
     "text": [
      "Epoch 1: 100%|██████████| 3595/3595 [02:59<00:00, 20.00it/s, v_num=65, train/loss_step=5.490, train/perplexity_step=241.0, val/loss=5.510, val/perplexity=278.0, train/loss_epoch=5.670, train/perplexity_epoch=292.0] "
     ]
    },
    {
     "name": "stderr",
     "output_type": "stream",
     "text": [
      "Metric val/loss improved by 0.311 >= min_delta = 0.001. New best score: 5.512\n",
      "Epoch 1, global step 7190: 'val/loss' reached 5.51241 (best 5.51241), saving model to 'C:\\\\code\\\\data_science\\\\demo_llm\\\\checkpoints\\\\transformer_lm-epoch=01-val_loss=5.512.ckpt' as top 1\n"
     ]
    },
    {
     "name": "stdout",
     "output_type": "stream",
     "text": [
      "Epoch 2: 100%|██████████| 3595/3595 [02:59<00:00, 19.99it/s, v_num=65, train/loss_step=5.540, train/perplexity_step=255.0, val/loss=5.310, val/perplexity=225.0, train/loss_epoch=5.400, train/perplexity_epoch=222.0]"
     ]
    },
    {
     "name": "stderr",
     "output_type": "stream",
     "text": [
      "Metric val/loss improved by 0.200 >= min_delta = 0.001. New best score: 5.312\n",
      "Epoch 2, global step 10785: 'val/loss' reached 5.31238 (best 5.31238), saving model to 'C:\\\\code\\\\data_science\\\\demo_llm\\\\checkpoints\\\\transformer_lm-epoch=02-val_loss=5.312.ckpt' as top 1\n"
     ]
    },
    {
     "name": "stdout",
     "output_type": "stream",
     "text": [
      "Epoch 3: 100%|██████████| 3595/3595 [02:46<00:00, 21.53it/s, v_num=65, train/loss_step=5.230, train/perplexity_step=188.0, val/loss=5.160, val/perplexity=192.0, train/loss_epoch=5.220, train/perplexity_epoch=186.0]"
     ]
    },
    {
     "name": "stderr",
     "output_type": "stream",
     "text": [
      "Metric val/loss improved by 0.148 >= min_delta = 0.001. New best score: 5.164\n",
      "Epoch 3, global step 14380: 'val/loss' reached 5.16393 (best 5.16393), saving model to 'C:\\\\code\\\\data_science\\\\demo_llm\\\\checkpoints\\\\transformer_lm-epoch=03-val_loss=5.164.ckpt' as top 1\n"
     ]
    },
    {
     "name": "stdout",
     "output_type": "stream",
     "text": [
      "Epoch 4: 100%|██████████| 3595/3595 [02:54<00:00, 20.65it/s, v_num=65, train/loss_step=5.110, train/perplexity_step=165.0, val/loss=5.040, val/perplexity=168.0, train/loss_epoch=5.100, train/perplexity_epoch=164.0]"
     ]
    },
    {
     "name": "stderr",
     "output_type": "stream",
     "text": [
      "Metric val/loss improved by 0.122 >= min_delta = 0.001. New best score: 5.042\n",
      "Epoch 4, global step 17975: 'val/loss' reached 5.04156 (best 5.04156), saving model to 'C:\\\\code\\\\data_science\\\\demo_llm\\\\checkpoints\\\\transformer_lm-epoch=04-val_loss=5.042.ckpt' as top 1\n"
     ]
    },
    {
     "name": "stdout",
     "output_type": "stream",
     "text": [
      "Epoch 5:  58%|█████▊    | 2088/3595 [01:29<01:04, 23.38it/s, v_num=65, train/loss_step=5.050, train/perplexity_step=156.0, val/loss=5.040, val/perplexity=168.0, train/loss_epoch=5.100, train/perplexity_epoch=164.0]"
     ]
    }
   ],
   "source": [
    "# Train model\n",
    "print(\"\\nStarting training...\")\n",
    "print(\"With the updated parameters:\")\n",
    "print(f\"- Sequence length: {sequence_length}\")\n",
    "print(f\"- Train split: {train_split}\")\n",
    "print(f\"- Val split: {val_split}\")\n",
    "print(f\"- Monitor: {monitor}\")\n",
    "print()\n",
    "\n",
    "trainer.fit(model, data_module)"
   ]
  },
  {
   "cell_type": "markdown",
   "id": "81e6a938",
   "metadata": {},
   "source": [
    "#### Test & Save the model"
   ]
  },
  {
   "cell_type": "code",
   "execution_count": null,
   "id": "ad9ed8e8",
   "metadata": {},
   "outputs": [
    {
     "name": "stderr",
     "output_type": "stream",
     "text": [
      "LOCAL_RANK: 0 - CUDA_VISIBLE_DEVICES: [0]\n"
     ]
    },
    {
     "name": "stdout",
     "output_type": "stream",
     "text": [
      "\n",
      "Testing model...\n",
      "Testing DataLoader 0: 100%|██████████| 347/347 [00:01<00:00, 188.48it/s]\n"
     ]
    },
    {
     "data": {
      "text/html": [
       "<pre style=\"white-space:pre;overflow-x:auto;line-height:normal;font-family:Menlo,'DejaVu Sans Mono',consolas,'Courier New',monospace\">┏━━━━━━━━━━━━━━━━━━━━━━━━━━━┳━━━━━━━━━━━━━━━━━━━━━━━━━━━┓\n",
       "┃<span style=\"font-weight: bold\">        Test metric        </span>┃<span style=\"font-weight: bold\">       DataLoader 0        </span>┃\n",
       "┡━━━━━━━━━━━━━━━━━━━━━━━━━━━╇━━━━━━━━━━━━━━━━━━━━━━━━━━━┩\n",
       "│<span style=\"color: #008080; text-decoration-color: #008080\">         test/loss         </span>│<span style=\"color: #800080; text-decoration-color: #800080\">     4.201884746551514     </span>│\n",
       "└───────────────────────────┴───────────────────────────┘\n",
       "</pre>\n"
      ],
      "text/plain": [
       "┏━━━━━━━━━━━━━━━━━━━━━━━━━━━┳━━━━━━━━━━━━━━━━━━━━━━━━━━━┓\n",
       "┃\u001b[1m \u001b[0m\u001b[1m       Test metric       \u001b[0m\u001b[1m \u001b[0m┃\u001b[1m \u001b[0m\u001b[1m      DataLoader 0       \u001b[0m\u001b[1m \u001b[0m┃\n",
       "┡━━━━━━━━━━━━━━━━━━━━━━━━━━━╇━━━━━━━━━━━━━━━━━━━━━━━━━━━┩\n",
       "│\u001b[36m \u001b[0m\u001b[36m        test/loss        \u001b[0m\u001b[36m \u001b[0m│\u001b[35m \u001b[0m\u001b[35m    4.201884746551514    \u001b[0m\u001b[35m \u001b[0m│\n",
       "└───────────────────────────┴───────────────────────────┘\n"
      ]
     },
     "metadata": {},
     "output_type": "display_data"
    },
    {
     "name": "stdout",
     "output_type": "stream",
     "text": [
      "Best model copied to ./checkpoints\\transformer_lm-best-v64.ckpt\n"
     ]
    }
   ],
   "source": [
    "# Test model\n",
    "print(\"\\nTesting model...\")\n",
    "trainer.test(model, data_module)\n",
    "\n",
    "# Save best model instead of final model\n",
    "if checkpoint_callback.best_model_path:\n",
    "    # Copy the best model to a final location with version number\n",
    "    import shutil\n",
    "    version = trainer.logger.version\n",
    "    final_model_path = os.path.join(save_dir, f\"{experiment_name}-best-v{version:02d}.ckpt\")\n",
    "    shutil.copy2(checkpoint_callback.best_model_path, final_model_path)\n",
    "    print(f\"Best model copied to {final_model_path}\")\n",
    "    \n",
    "    # Also save as the standard final model name (overwrites previous)\n",
    "    standard_final_path = os.path.join(save_dir, f\"{experiment_name}_final.ckpt\")\n",
    "    shutil.copy2(checkpoint_callback.best_model_path, standard_final_path)\n",
    "    print(f\"Best model also saved as {standard_final_path}\")\n",
    "else:\n",
    "    print(\"No best model found, saving current model as final\")\n",
    "    version = trainer.logger.version\n",
    "    final_model_path = os.path.join(save_dir, f\"{experiment_name}-final-v{version:02d}.ckpt\")\n",
    "    trainer.save_checkpoint(final_model_path)\n",
    "    print(f\"Final model saved to {final_model_path}\")\n",
    "    \n",
    "    # Also save as the standard final model name (overwrites previous)\n",
    "    standard_final_path = os.path.join(save_dir, f\"{experiment_name}_final.ckpt\")\n",
    "    shutil.copy2(final_model_path, standard_final_path)\n",
    "    print(f\"Final model also saved as {standard_final_path}\")"
   ]
  },
  {
   "cell_type": "code",
   "execution_count": null,
   "id": "573fe554",
   "metadata": {},
   "outputs": [
    {
     "name": "stdout",
     "output_type": "stream",
     "text": [
      "Vocab saved to ./checkpoints\\vocab-v64.pkl\n"
     ]
    }
   ],
   "source": [
    "# Also save the vocab with the version number\n",
    "vocab_path = os.path.join(save_dir, f\"vocab-v{version:02d}.pkl\")\n",
    "with open(vocab_path, 'wb') as f:\n",
    "    pickle.dump(vocab, f)\n",
    "    print(f\"Vocab saved to {vocab_path}\")\n",
    "\n",
    "# Also save as the standard vocab name (overwrites previous)\n",
    "standard_vocab_path = os.path.join(save_dir, \"vocab.pkl\")\n",
    "with open(standard_vocab_path, 'wb') as f:\n",
    "    pickle.dump(vocab, f)\n",
    "    print(f\"Vocab also saved as {standard_vocab_path}\")"
   ]
  },
  {
   "cell_type": "code",
   "execution_count": null,
   "id": "b3dc3ed9",
   "metadata": {},
   "outputs": [
    {
     "name": "stdout",
     "output_type": "stream",
     "text": [
      "\n",
      "Training completed!\n",
      "Checkpoints saved in: ./checkpoints\n",
      "Logs saved in: ./logs\n",
      "Vocabulary saved in: ./checkpoints\\vocab-v64.pkl\n",
      "Best model: C:\\code\\data_science\\demo_llm\\checkpoints\\transformer_lm-epoch=99-val_loss=4.281.ckpt\n",
      "Best score: 4.2810516357421875\n",
      "Final model saved as: ./checkpoints\\transformer_lm-best-v64.ckpt\n",
      "\n",
      "==================================================\n",
      "To run the Gradio app with your trained model:\n",
      "python -m src.app.gradio_app --model_path ./checkpoints\\transformer_lm-best-v64.ckpt --vocab_path ./checkpoints\\vocab-v64.pkl\n",
      "==================================================\n"
     ]
    }
   ],
   "source": [
    "print(\"\\nTraining completed!\")\n",
    "print(f\"Checkpoints saved in: {save_dir}\")\n",
    "print(f\"Logs saved in: {log_dir}\")\n",
    "print(f\"Vocabulary saved in: {vocab_path}\")\n",
    "print(f\"Best model: {checkpoint_callback.best_model_path}\")\n",
    "print(f\"Best score: {checkpoint_callback.best_model_score}\")\n",
    "print(f\"Final model saved as: {final_model_path}\")\n",
    "\n",
    "# Print instructions for running the app\n",
    "print(\"\\n\" + \"=\"*50)\n",
    "print(\"To run the Gradio app with your trained model:\")\n",
    "print(f\"python -m src.app.gradio_app --model_path {final_model_path} --vocab_path {vocab_path}\")\n",
    "\n",
    "print(\"=\"*50)"
   ]
  },
  {
   "cell_type": "code",
   "execution_count": null,
   "id": "1bef30b1",
   "metadata": {},
   "outputs": [],
   "source": [
    "# vocab['word_to_idx']['brain,']"
   ]
  }
 ],
 "metadata": {
  "kernelspec": {
   "display_name": ".venv",
   "language": "python",
   "name": "python3"
  },
  "language_info": {
   "codemirror_mode": {
    "name": "ipython",
    "version": 3
   },
   "file_extension": ".py",
   "mimetype": "text/x-python",
   "name": "python",
   "nbconvert_exporter": "python",
   "pygments_lexer": "ipython3",
   "version": "3.11.0"
  }
 },
 "nbformat": 4,
 "nbformat_minor": 5
}
