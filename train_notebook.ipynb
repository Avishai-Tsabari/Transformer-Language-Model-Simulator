{
 "cells": [
  {
   "cell_type": "markdown",
   "id": "24a71c15",
   "metadata": {},
   "source": [
    "# IMPORTS"
   ]
  },
  {
   "cell_type": "markdown",
   "id": "73e5022e",
   "metadata": {},
   "source": [
    "#### Set Root Dir"
   ]
  },
  {
   "cell_type": "code",
   "execution_count": 1,
   "id": "9045cfd0",
   "metadata": {},
   "outputs": [],
   "source": [
    "import sys\n",
    "import os\n",
    "\n",
    "# Use the current working directory as root (or go up if needed)\n",
    "ROOT_DIR = os.path.abspath(os.path.join(os.getcwd(), '../..'))  # Adjust '..' as needed\n",
    "sys.path.append(ROOT_DIR)"
   ]
  },
  {
   "cell_type": "markdown",
   "id": "2e73e3ac",
   "metadata": {},
   "source": [
    "#### import modules"
   ]
  },
  {
   "cell_type": "code",
   "execution_count": 2,
   "id": "8a95daa7",
   "metadata": {},
   "outputs": [
    {
     "name": "stderr",
     "output_type": "stream",
     "text": [
      "c:\\code\\data_science\\demo_llm\\.venv\\Lib\\site-packages\\tqdm\\auto.py:21: TqdmWarning: IProgress not found. Please update jupyter and ipywidgets. See https://ipywidgets.readthedocs.io/en/stable/user_install.html\n",
      "  from .autonotebook import tqdm as notebook_tqdm\n"
     ]
    }
   ],
   "source": [
    "\"\"\"\n",
    "Training script for the transformer language model.\n",
    "\"\"\"\n",
    "import argparse\n",
    "import torch\n",
    "import pytorch_lightning as pl\n",
    "import pickle\n",
    "import yaml\n",
    "from pytorch_lightning.callbacks import EarlyStopping, ModelCheckpoint, LearningRateMonitor\n",
    "from pytorch_lightning.loggers import TensorBoardLogger\n",
    "from pytorch_lightning import Trainer\n",
    "\n",
    "from src.data.tokenizer import SimpleTokenizer, load_text_corpus, create_sample_corpus\n",
    "from src.data.dataset import TextDataModule\n",
    "from src.model.lightning_module import TransformerLightningModule"
   ]
  },
  {
   "cell_type": "markdown",
   "id": "07a82678",
   "metadata": {},
   "source": [
    "# Params"
   ]
  },
  {
   "cell_type": "code",
   "execution_count": 3,
   "id": "26b1aae0",
   "metadata": {},
   "outputs": [],
   "source": [
    "with open(\"config.yaml\", \"r\") as f:\n",
    "    config = yaml.safe_load(f)"
   ]
  },
  {
   "cell_type": "code",
   "execution_count": 4,
   "id": "2122d78c",
   "metadata": {},
   "outputs": [],
   "source": [
    "hparams = config[\"hparams\"]\n",
    "\n",
    "vocab_size, d_model, num_heads, num_layers, d_ff, \\\n",
    "sequence_length, batch_size, learning_rate, max_epochs, \\\n",
    "patience, min_delta, warmup_steps, weight_decay, dropout, \\\n",
    "train_split, val_split, num_workers, accelerator, devices, precision, \\\n",
    "gradient_clip_val, accumulate_grad_batches, log_every_n_steps, \\\n",
    "val_check_interval, save_top_k, monitor, mode = hparams.values()"
   ]
  },
  {
   "cell_type": "code",
   "execution_count": 5,
   "id": "80c227a5",
   "metadata": {},
   "outputs": [
    {
     "data": {
      "text/plain": [
       "{'vocab_size': 3000,\n",
       " 'd_model': 32,\n",
       " 'num_heads': 1,\n",
       " 'num_layers': 2,\n",
       " 'd_ff': 1024,\n",
       " 'sequence_length': 32,\n",
       " 'batch_size': 64,\n",
       " 'learning_rate': 0.0001,\n",
       " 'max_epochs': 100,\n",
       " 'patience': 10,\n",
       " 'min_delta': 0.001,\n",
       " 'warmup_steps': 1000,\n",
       " 'weight_decay': 0.01,\n",
       " 'dropout': 0.1,\n",
       " 'train_split': 0.7,\n",
       " 'val_split': 0.2,\n",
       " 'num_workers': 0,\n",
       " 'accelerator': 'auto',\n",
       " 'devices': 1,\n",
       " 'precision': '32',\n",
       " 'gradient_clip_val': 1.0,\n",
       " 'accumulate_grad_batches': 1,\n",
       " 'log_every_n_steps': 50,\n",
       " 'val_check_interval': 1.0,\n",
       " 'save_top_k': 1,\n",
       " 'monitor': 'val/loss',\n",
       " 'mode': 'min'}"
      ]
     },
     "execution_count": 5,
     "metadata": {},
     "output_type": "execute_result"
    }
   ],
   "source": [
    "hparams"
   ]
  },
  {
   "cell_type": "code",
   "execution_count": 6,
   "id": "e94d5d33",
   "metadata": {},
   "outputs": [],
   "source": [
    "paths = config[\"paths\"]\n",
    "general = config[\"general\"]\n",
    "\n",
    "corpus_path=paths[\"corpus_path\"]\n",
    "save_dir=paths[\"save_dir\"]\n",
    "log_dir=paths[\"log_dir\"]\n",
    "experiment_name=general[\"experiment_name\"]\n",
    "create_sample=general[\"create_sample\"]"
   ]
  },
  {
   "cell_type": "code",
   "execution_count": 7,
   "id": "0b474cfd",
   "metadata": {},
   "outputs": [
    {
     "name": "stdout",
     "output_type": "stream",
     "text": [
      "Loading and tokenizing text...\n"
     ]
    }
   ],
   "source": [
    "# Load and tokenize text\n",
    "print(\"Loading and tokenizing text...\")\n",
    "text = load_text_corpus(corpus_path)"
   ]
  },
  {
   "cell_type": "code",
   "execution_count": 8,
   "id": "9b4426c4",
   "metadata": {},
   "outputs": [
    {
     "name": "stdout",
     "output_type": "stream",
     "text": [
      "Vocabulary built with 2059 tokens\n"
     ]
    }
   ],
   "source": [
    "# Create tokenizer and build vocabulary\n",
    "tokenizer = SimpleTokenizer(vocab_size=hparams[\"vocab_size\"])\n",
    "tokenizer.build_vocab(text)"
   ]
  },
  {
   "cell_type": "code",
   "execution_count": 9,
   "id": "f874cccc",
   "metadata": {},
   "outputs": [
    {
     "name": "stdout",
     "output_type": "stream",
     "text": [
      "Vocabulary saved to ./checkpoints\\vocab.pkl\n"
     ]
    }
   ],
   "source": [
    "# Save vocabulary\n",
    "vocab_path = os.path.join(save_dir, \"vocab.pkl\")\n",
    "os.makedirs(save_dir, exist_ok=True)\n",
    "tokenizer.save_vocab(vocab_path)"
   ]
  },
  {
   "cell_type": "code",
   "execution_count": 10,
   "id": "ce1e0575",
   "metadata": {},
   "outputs": [
    {
     "data": {
      "text/plain": [
       "2059"
      ]
     },
     "execution_count": 10,
     "metadata": {},
     "output_type": "execute_result"
    }
   ],
   "source": [
    "# read vocab\n",
    "with open(vocab_path, 'rb') as f:\n",
    "    vocab = pickle.load(f)\n",
    "\n",
    "len(vocab['word_to_idx'])\n"
   ]
  },
  {
   "cell_type": "code",
   "execution_count": 11,
   "id": "0dd86e53",
   "metadata": {},
   "outputs": [
    {
     "name": "stdout",
     "output_type": "stream",
     "text": [
      "Encoded text length: 12344 tokens\n"
     ]
    }
   ],
   "source": [
    "# Encode text\n",
    "token_ids = tokenizer.encode(text)\n",
    "print(f\"Encoded text length: {len(token_ids)} tokens\")"
   ]
  },
  {
   "cell_type": "code",
   "execution_count": 12,
   "id": "3531c475",
   "metadata": {},
   "outputs": [],
   "source": [
    "# Create data module\n",
    "data_module = TextDataModule(\n",
    "    token_ids=token_ids,\n",
    "    sequence_length=sequence_length,\n",
    "    batch_size=batch_size,\n",
    "    train_split=train_split,\n",
    "    val_split=val_split,\n",
    "    num_workers=num_workers\n",
    ")"
   ]
  },
  {
   "cell_type": "code",
   "execution_count": 13,
   "id": "e160cea8",
   "metadata": {},
   "outputs": [],
   "source": [
    "# Create model\n",
    "model = TransformerLightningModule(\n",
    "    vocab_size=tokenizer.get_vocab_size(),\n",
    "    d_model=d_model,\n",
    "    num_heads=num_heads,\n",
    "    num_layers=num_layers,\n",
    "    d_ff=d_ff,\n",
    "    dropout=dropout,\n",
    "    learning_rate=learning_rate,\n",
    "    weight_decay=weight_decay,\n",
    "    warmup_steps=warmup_steps\n",
    ")"
   ]
  },
  {
   "cell_type": "code",
   "execution_count": 14,
   "id": "0db2eba5",
   "metadata": {},
   "outputs": [],
   "source": [
    "# Create callbacks\n",
    "callbacks = []\n",
    "\n",
    "# Early stopping\n",
    "early_stopping = EarlyStopping(\n",
    "    monitor=monitor,\n",
    "    patience=patience,\n",
    "    min_delta=min_delta,\n",
    "    mode=mode,\n",
    "    verbose=True\n",
    ")\n",
    "callbacks.append(early_stopping)\n",
    "\n",
    "\n",
    "# Model checkpointing\n",
    "checkpoint_callback = ModelCheckpoint(\n",
    "    dirpath=save_dir,\n",
    "    filename=f\"{experiment_name}-epoch={{epoch:02d}}-val_loss={{val/loss:.3f}}\", #-v{trainer.logger.version:02d}\",\n",
    "    monitor=monitor,\n",
    "    mode=mode,\n",
    "    auto_insert_metric_name=False, # Prevents the name 'val/loss=' from being prepended\n",
    "    save_top_k=save_top_k,\n",
    "    save_last=True,\n",
    "    verbose=True\n",
    ")\n",
    "callbacks.append(checkpoint_callback)\n",
    "\n",
    "# Learning rate monitoring\n",
    "lr_monitor = LearningRateMonitor(logging_interval='step')\n",
    "callbacks.append(lr_monitor)"
   ]
  },
  {
   "cell_type": "code",
   "execution_count": 15,
   "id": "6e196f69",
   "metadata": {},
   "outputs": [
    {
     "name": "stderr",
     "output_type": "stream",
     "text": [
      "GPU available: False, used: False\n",
      "TPU available: False, using: 0 TPU cores\n",
      "HPU available: False, using: 0 HPUs\n",
      "`Trainer(val_check_interval=1.0)` was configured so validation will run at the end of the training epoch..\n"
     ]
    }
   ],
   "source": [
    "# Create logger\n",
    "logger = TensorBoardLogger(\n",
    "    save_dir=log_dir,\n",
    "    name=experiment_name,\n",
    "    version=None\n",
    ")\n",
    "\n",
    "# Create trainer\n",
    "trainer = Trainer(\n",
    "    accelerator=accelerator,\n",
    "    devices=devices,\n",
    "    precision=precision,\n",
    "    max_epochs=max_epochs,\n",
    "    gradient_clip_val=gradient_clip_val,\n",
    "    accumulate_grad_batches=accumulate_grad_batches,\n",
    "    log_every_n_steps=log_every_n_steps,\n",
    "    val_check_interval=val_check_interval,\n",
    "    callbacks=callbacks,\n",
    "    logger=logger,\n",
    "    deterministic=True,\n",
    "    enable_progress_bar=True,\n",
    "    enable_model_summary=True\n",
    ")"
   ]
  },
  {
   "cell_type": "code",
   "execution_count": 16,
   "id": "0118a3f9",
   "metadata": {},
   "outputs": [
    {
     "name": "stdout",
     "output_type": "stream",
     "text": [
      "\n",
      "Model Summary:\n",
      "Vocabulary size: 2059\n",
      "Model parameters: 275,723\n",
      "Trainable parameters: 275,723\n"
     ]
    }
   ],
   "source": [
    "# Print model summary\n",
    "print(\"\\nModel Summary:\")\n",
    "print(f\"Vocabulary size: {tokenizer.get_vocab_size()}\")\n",
    "print(f\"Model parameters: {sum(p.numel() for p in model.parameters()):,}\")\n",
    "print(f\"Trainable parameters: {sum(p.numel() for p in model.parameters() if p.requires_grad):,}\")"
   ]
  },
  {
   "cell_type": "code",
   "execution_count": 17,
   "id": "f07fceb3",
   "metadata": {},
   "outputs": [
    {
     "name": "stdout",
     "output_type": "stream",
     "text": [
      "Data sizes:\n",
      "Total tokens: 12344\n",
      "Sequence length: 32\n",
      "Train split: 0.7\n",
      "Val split: 0.2\n",
      "Train tokens: 8640\n",
      "Val tokens: 2469\n",
      "Test tokens: 1235\n"
     ]
    }
   ],
   "source": [
    "# Check data sizes\n",
    "print(\"Data sizes:\")\n",
    "print(f\"Total tokens: {len(token_ids)}\")\n",
    "print(f\"Sequence length: {sequence_length}\")\n",
    "print(f\"Train split: {train_split}\")\n",
    "print(f\"Val split: {val_split}\")\n",
    "\n",
    "# Calculate split sizes\n",
    "total_len = len(token_ids)\n",
    "train_end = int(total_len * train_split)\n",
    "val_end = int(total_len * (train_split + val_split))\n",
    "\n",
    "print(f\"Train tokens: {train_end}\")\n",
    "print(f\"Val tokens: {val_end - train_end}\")\n",
    "print(f\"Test tokens: {total_len - val_end}\")\n",
    "\n",
    "# Check if validation data is sufficient\n",
    "val_tokens = val_end - train_end\n",
    "if val_tokens < sequence_length:\n",
    "    print(f\"WARNING: Validation data has only {val_tokens} tokens, less than sequence length {sequence_length}\")\n",
    "    print(\"This will cause validation to fail. Consider using a larger corpus or adjusting splits.\")\n"
   ]
  },
  {
   "cell_type": "code",
   "execution_count": 18,
   "id": "8c88831a",
   "metadata": {},
   "outputs": [
    {
     "name": "stdout",
     "output_type": "stream",
     "text": [
      "\n",
      "Starting training...\n",
      "With the updated parameters:\n",
      "- Sequence length: 32\n",
      "- Train split: 0.7\n",
      "- Val split: 0.2\n",
      "- Monitor: val/loss\n",
      "\n"
     ]
    },
    {
     "name": "stderr",
     "output_type": "stream",
     "text": [
      "c:\\code\\data_science\\demo_llm\\.venv\\Lib\\site-packages\\pytorch_lightning\\callbacks\\model_checkpoint.py:751: Checkpoint directory C:\\code\\data_science\\demo_llm\\checkpoints exists and is not empty.\n",
      "\n",
      "  | Name      | Type             | Params | Mode \n",
      "-------------------------------------------------------\n",
      "0 | model     | TransformerLM    | 275 K  | train\n",
      "1 | criterion | CrossEntropyLoss | 0      | train\n",
      "-------------------------------------------------------\n",
      "275 K     Trainable params\n",
      "0         Non-trainable params\n",
      "275 K     Total params\n",
      "1.103     Total estimated model params size (MB)\n",
      "35        Modules in train mode\n",
      "0         Modules in eval mode\n"
     ]
    },
    {
     "name": "stdout",
     "output_type": "stream",
     "text": [
      "                                                                           "
     ]
    },
    {
     "name": "stderr",
     "output_type": "stream",
     "text": [
      "c:\\code\\data_science\\demo_llm\\.venv\\Lib\\site-packages\\pytorch_lightning\\trainer\\connectors\\data_connector.py:433: The 'val_dataloader' does not have many workers which may be a bottleneck. Consider increasing the value of the `num_workers` argument` to `num_workers=15` in the `DataLoader` to improve performance.\n",
      "c:\\code\\data_science\\demo_llm\\.venv\\Lib\\site-packages\\torch\\utils\\data\\dataloader.py:666: UserWarning: 'pin_memory' argument is set as true but no accelerator is found, then device pinned memory won't be used.\n",
      "  warnings.warn(warn_msg)\n",
      "c:\\code\\data_science\\demo_llm\\.venv\\Lib\\site-packages\\pytorch_lightning\\trainer\\connectors\\data_connector.py:433: The 'train_dataloader' does not have many workers which may be a bottleneck. Consider increasing the value of the `num_workers` argument` to `num_workers=15` in the `DataLoader` to improve performance.\n"
     ]
    },
    {
     "name": "stdout",
     "output_type": "stream",
     "text": [
      "Epoch 0: 100%|██████████| 135/135 [00:13<00:00, 10.30it/s, v_num=28, train/loss_step=7.720, train/perplexity_step=2.26e+3, val/loss=7.710, val/perplexity=2.24e+3, train/loss_epoch=7.770, train/perplexity_epoch=2.38e+3]"
     ]
    },
    {
     "name": "stderr",
     "output_type": "stream",
     "text": [
      "Metric val/loss improved. New best score: 7.711\n",
      "Epoch 0, global step 135: 'val/loss' reached 7.71142 (best 7.71142), saving model to 'C:\\\\code\\\\data_science\\\\demo_llm\\\\checkpoints\\\\transformer_lm-epoch=00-val_loss=7.711.ckpt' as top 1\n"
     ]
    },
    {
     "name": "stdout",
     "output_type": "stream",
     "text": [
      "Epoch 1: 100%|██████████| 135/135 [00:12<00:00, 10.43it/s, v_num=28, train/loss_step=7.510, train/perplexity_step=1.83e+3, val/loss=7.510, val/perplexity=1.84e+3, train/loss_epoch=7.620, train/perplexity_epoch=2.04e+3]"
     ]
    },
    {
     "name": "stderr",
     "output_type": "stream",
     "text": [
      "Metric val/loss improved by 0.202 >= min_delta = 0.001. New best score: 7.510\n",
      "Epoch 1, global step 270: 'val/loss' reached 7.50958 (best 7.50958), saving model to 'C:\\\\code\\\\data_science\\\\demo_llm\\\\checkpoints\\\\transformer_lm-epoch=01-val_loss=7.510.ckpt' as top 1\n"
     ]
    },
    {
     "name": "stdout",
     "output_type": "stream",
     "text": [
      "Epoch 2: 100%|██████████| 135/135 [00:12<00:00, 11.01it/s, v_num=28, train/loss_step=7.330, train/perplexity_step=1.52e+3, val/loss=7.310, val/perplexity=1.51e+3, train/loss_epoch=7.410, train/perplexity_epoch=1.66e+3]"
     ]
    },
    {
     "name": "stderr",
     "output_type": "stream",
     "text": [
      "Metric val/loss improved by 0.201 >= min_delta = 0.001. New best score: 7.309\n",
      "Epoch 2, global step 405: 'val/loss' reached 7.30889 (best 7.30889), saving model to 'C:\\\\code\\\\data_science\\\\demo_llm\\\\checkpoints\\\\transformer_lm-epoch=02-val_loss=7.309.ckpt' as top 1\n"
     ]
    },
    {
     "name": "stdout",
     "output_type": "stream",
     "text": [
      "Epoch 3: 100%|██████████| 135/135 [00:12<00:00, 10.59it/s, v_num=28, train/loss_step=7.070, train/perplexity_step=1.18e+3, val/loss=7.090, val/perplexity=1.22e+3, train/loss_epoch=7.200, train/perplexity_epoch=1.34e+3]"
     ]
    },
    {
     "name": "stderr",
     "output_type": "stream",
     "text": [
      "Metric val/loss improved by 0.216 >= min_delta = 0.001. New best score: 7.093\n",
      "Epoch 3, global step 540: 'val/loss' reached 7.09303 (best 7.09303), saving model to 'C:\\\\code\\\\data_science\\\\demo_llm\\\\checkpoints\\\\transformer_lm-epoch=03-val_loss=7.093.ckpt' as top 1\n"
     ]
    },
    {
     "name": "stdout",
     "output_type": "stream",
     "text": [
      "Epoch 4: 100%|██████████| 135/135 [00:12<00:00, 10.90it/s, v_num=28, train/loss_step=6.830, train/perplexity_step=926.0, val/loss=6.850, val/perplexity=967.0, train/loss_epoch=6.950, train/perplexity_epoch=1.05e+3]    "
     ]
    },
    {
     "name": "stderr",
     "output_type": "stream",
     "text": [
      "Metric val/loss improved by 0.239 >= min_delta = 0.001. New best score: 6.854\n",
      "Epoch 4, global step 675: 'val/loss' reached 6.85384 (best 6.85384), saving model to 'C:\\\\code\\\\data_science\\\\demo_llm\\\\checkpoints\\\\transformer_lm-epoch=04-val_loss=6.854.ckpt' as top 1\n"
     ]
    },
    {
     "name": "stdout",
     "output_type": "stream",
     "text": [
      "Epoch 5: 100%|██████████| 135/135 [00:12<00:00, 10.96it/s, v_num=28, train/loss_step=6.560, train/perplexity_step=708.0, val/loss=6.620, val/perplexity=773.0, train/loss_epoch=6.690, train/perplexity_epoch=804.0]  "
     ]
    },
    {
     "name": "stderr",
     "output_type": "stream",
     "text": [
      "Metric val/loss improved by 0.235 >= min_delta = 0.001. New best score: 6.619\n",
      "Epoch 5, global step 810: 'val/loss' reached 6.61902 (best 6.61902), saving model to 'C:\\\\code\\\\data_science\\\\demo_llm\\\\checkpoints\\\\transformer_lm-epoch=05-val_loss=6.619.ckpt' as top 1\n"
     ]
    },
    {
     "name": "stdout",
     "output_type": "stream",
     "text": [
      "Epoch 6: 100%|██████████| 135/135 [00:12<00:00, 10.95it/s, v_num=28, train/loss_step=6.290, train/perplexity_step=539.0, val/loss=6.430, val/perplexity=649.0, train/loss_epoch=6.430, train/perplexity_epoch=623.0]"
     ]
    },
    {
     "name": "stderr",
     "output_type": "stream",
     "text": [
      "Metric val/loss improved by 0.191 >= min_delta = 0.001. New best score: 6.428\n",
      "Epoch 6, global step 945: 'val/loss' reached 6.42835 (best 6.42835), saving model to 'C:\\\\code\\\\data_science\\\\demo_llm\\\\checkpoints\\\\transformer_lm-epoch=06-val_loss=6.428.ckpt' as top 1\n"
     ]
    },
    {
     "name": "stdout",
     "output_type": "stream",
     "text": [
      "Epoch 7: 100%|██████████| 135/135 [00:12<00:00, 10.74it/s, v_num=28, train/loss_step=6.180, train/perplexity_step=482.0, val/loss=6.290, val/perplexity=577.0, train/loss_epoch=6.220, train/perplexity_epoch=504.0]"
     ]
    },
    {
     "name": "stderr",
     "output_type": "stream",
     "text": [
      "Metric val/loss improved by 0.136 >= min_delta = 0.001. New best score: 6.293\n",
      "Epoch 7, global step 1080: 'val/loss' reached 6.29259 (best 6.29259), saving model to 'C:\\\\code\\\\data_science\\\\demo_llm\\\\checkpoints\\\\transformer_lm-epoch=07-val_loss=6.293.ckpt' as top 1\n"
     ]
    },
    {
     "name": "stdout",
     "output_type": "stream",
     "text": [
      "Epoch 8: 100%|██████████| 135/135 [00:12<00:00, 10.77it/s, v_num=28, train/loss_step=5.960, train/perplexity_step=387.0, val/loss=6.200, val/perplexity=536.0, train/loss_epoch=6.060, train/perplexity_epoch=429.0]"
     ]
    },
    {
     "name": "stderr",
     "output_type": "stream",
     "text": [
      "Metric val/loss improved by 0.092 >= min_delta = 0.001. New best score: 6.200\n",
      "Epoch 8, global step 1215: 'val/loss' reached 6.20028 (best 6.20028), saving model to 'C:\\\\code\\\\data_science\\\\demo_llm\\\\checkpoints\\\\transformer_lm-epoch=08-val_loss=6.200.ckpt' as top 1\n"
     ]
    },
    {
     "name": "stdout",
     "output_type": "stream",
     "text": [
      "Epoch 9: 100%|██████████| 135/135 [00:12<00:00, 10.88it/s, v_num=28, train/loss_step=6.020, train/perplexity_step=412.0, val/loss=6.140, val/perplexity=510.0, train/loss_epoch=5.940, train/perplexity_epoch=379.0]"
     ]
    },
    {
     "name": "stderr",
     "output_type": "stream",
     "text": [
      "Metric val/loss improved by 0.065 >= min_delta = 0.001. New best score: 6.135\n",
      "Epoch 9, global step 1350: 'val/loss' reached 6.13544 (best 6.13544), saving model to 'C:\\\\code\\\\data_science\\\\demo_llm\\\\checkpoints\\\\transformer_lm-epoch=09-val_loss=6.135.ckpt' as top 1\n"
     ]
    },
    {
     "name": "stdout",
     "output_type": "stream",
     "text": [
      "Epoch 10: 100%|██████████| 135/135 [00:12<00:00, 10.42it/s, v_num=28, train/loss_step=5.780, train/perplexity_step=322.0, val/loss=6.090, val/perplexity=492.0, train/loss_epoch=5.840, train/perplexity_epoch=344.0]"
     ]
    },
    {
     "name": "stderr",
     "output_type": "stream",
     "text": [
      "Metric val/loss improved by 0.047 >= min_delta = 0.001. New best score: 6.088\n",
      "Epoch 10, global step 1485: 'val/loss' reached 6.08841 (best 6.08841), saving model to 'C:\\\\code\\\\data_science\\\\demo_llm\\\\checkpoints\\\\transformer_lm-epoch=10-val_loss=6.088.ckpt' as top 1\n"
     ]
    },
    {
     "name": "stdout",
     "output_type": "stream",
     "text": [
      "Epoch 11: 100%|██████████| 135/135 [00:12<00:00, 10.46it/s, v_num=28, train/loss_step=5.780, train/perplexity_step=323.0, val/loss=6.060, val/perplexity=481.0, train/loss_epoch=5.770, train/perplexity_epoch=321.0]"
     ]
    },
    {
     "name": "stderr",
     "output_type": "stream",
     "text": [
      "Metric val/loss improved by 0.029 >= min_delta = 0.001. New best score: 6.060\n",
      "Epoch 11, global step 1620: 'val/loss' reached 6.05958 (best 6.05958), saving model to 'C:\\\\code\\\\data_science\\\\demo_llm\\\\checkpoints\\\\transformer_lm-epoch=11-val_loss=6.060.ckpt' as top 1\n"
     ]
    },
    {
     "name": "stdout",
     "output_type": "stream",
     "text": [
      "Epoch 12: 100%|██████████| 135/135 [00:14<00:00,  9.40it/s, v_num=28, train/loss_step=5.650, train/perplexity_step=284.0, val/loss=6.040, val/perplexity=477.0, train/loss_epoch=5.730, train/perplexity_epoch=308.0]"
     ]
    },
    {
     "name": "stderr",
     "output_type": "stream",
     "text": [
      "Metric val/loss improved by 0.015 >= min_delta = 0.001. New best score: 6.044\n",
      "Epoch 12, global step 1755: 'val/loss' reached 6.04428 (best 6.04428), saving model to 'C:\\\\code\\\\data_science\\\\demo_llm\\\\checkpoints\\\\transformer_lm-epoch=12-val_loss=6.044.ckpt' as top 1\n"
     ]
    },
    {
     "name": "stdout",
     "output_type": "stream",
     "text": [
      "Epoch 13: 100%|██████████| 135/135 [00:13<00:00, 10.28it/s, v_num=28, train/loss_step=5.740, train/perplexity_step=311.0, val/loss=6.040, val/perplexity=475.0, train/loss_epoch=5.710, train/perplexity_epoch=302.0]"
     ]
    },
    {
     "name": "stderr",
     "output_type": "stream",
     "text": [
      "Metric val/loss improved by 0.005 >= min_delta = 0.001. New best score: 6.039\n",
      "Epoch 13, global step 1890: 'val/loss' reached 6.03927 (best 6.03927), saving model to 'C:\\\\code\\\\data_science\\\\demo_llm\\\\checkpoints\\\\transformer_lm-epoch=13-val_loss=6.039.ckpt' as top 1\n"
     ]
    },
    {
     "name": "stdout",
     "output_type": "stream",
     "text": [
      "Epoch 14: 100%|██████████| 135/135 [00:13<00:00,  9.93it/s, v_num=28, train/loss_step=5.570, train/perplexity_step=263.0, val/loss=6.040, val/perplexity=475.0, train/loss_epoch=5.710, train/perplexity_epoch=301.0]"
     ]
    },
    {
     "name": "stderr",
     "output_type": "stream",
     "text": [
      "Epoch 14, global step 2025: 'val/loss' reached 6.03874 (best 6.03874), saving model to 'C:\\\\code\\\\data_science\\\\demo_llm\\\\checkpoints\\\\transformer_lm-epoch=14-val_loss=6.039.ckpt' as top 1\n"
     ]
    },
    {
     "name": "stdout",
     "output_type": "stream",
     "text": [
      "Epoch 15: 100%|██████████| 135/135 [00:13<00:00,  9.99it/s, v_num=28, train/loss_step=5.600, train/perplexity_step=271.0, val/loss=6.040, val/perplexity=474.0, train/loss_epoch=5.710, train/perplexity_epoch=301.0]"
     ]
    },
    {
     "name": "stderr",
     "output_type": "stream",
     "text": [
      "Metric val/loss improved by 0.002 >= min_delta = 0.001. New best score: 6.037\n",
      "Epoch 15, global step 2160: 'val/loss' reached 6.03711 (best 6.03711), saving model to 'C:\\\\code\\\\data_science\\\\demo_llm\\\\checkpoints\\\\transformer_lm-epoch=15-val_loss=6.037.ckpt' as top 1\n"
     ]
    },
    {
     "name": "stdout",
     "output_type": "stream",
     "text": [
      "Epoch 16: 100%|██████████| 135/135 [00:12<00:00, 10.51it/s, v_num=28, train/loss_step=5.590, train/perplexity_step=268.0, val/loss=6.030, val/perplexity=472.0, train/loss_epoch=5.700, train/perplexity_epoch=299.0]"
     ]
    },
    {
     "name": "stderr",
     "output_type": "stream",
     "text": [
      "Metric val/loss improved by 0.007 >= min_delta = 0.001. New best score: 6.030\n",
      "Epoch 16, global step 2295: 'val/loss' reached 6.03022 (best 6.03022), saving model to 'C:\\\\code\\\\data_science\\\\demo_llm\\\\checkpoints\\\\transformer_lm-epoch=16-val_loss=6.030.ckpt' as top 1\n"
     ]
    },
    {
     "name": "stdout",
     "output_type": "stream",
     "text": [
      "Epoch 17: 100%|██████████| 135/135 [00:12<00:00, 10.54it/s, v_num=28, train/loss_step=5.700, train/perplexity_step=299.0, val/loss=6.010, val/perplexity=467.0, train/loss_epoch=5.670, train/perplexity_epoch=292.0]"
     ]
    },
    {
     "name": "stderr",
     "output_type": "stream",
     "text": [
      "Metric val/loss improved by 0.017 >= min_delta = 0.001. New best score: 6.013\n",
      "Epoch 17, global step 2430: 'val/loss' reached 6.01329 (best 6.01329), saving model to 'C:\\\\code\\\\data_science\\\\demo_llm\\\\checkpoints\\\\transformer_lm-epoch=17-val_loss=6.013.ckpt' as top 1\n"
     ]
    },
    {
     "name": "stdout",
     "output_type": "stream",
     "text": [
      "Epoch 18: 100%|██████████| 135/135 [00:12<00:00, 10.47it/s, v_num=28, train/loss_step=5.630, train/perplexity_step=279.0, val/loss=5.990, val/perplexity=461.0, train/loss_epoch=5.630, train/perplexity_epoch=279.0]"
     ]
    },
    {
     "name": "stderr",
     "output_type": "stream",
     "text": [
      "Metric val/loss improved by 0.026 >= min_delta = 0.001. New best score: 5.988\n",
      "Epoch 18, global step 2565: 'val/loss' reached 5.98775 (best 5.98775), saving model to 'C:\\\\code\\\\data_science\\\\demo_llm\\\\checkpoints\\\\transformer_lm-epoch=18-val_loss=5.988.ckpt' as top 1\n"
     ]
    },
    {
     "name": "stdout",
     "output_type": "stream",
     "text": [
      "Epoch 19: 100%|██████████| 135/135 [00:12<00:00, 10.68it/s, v_num=28, train/loss_step=5.500, train/perplexity_step=245.0, val/loss=5.950, val/perplexity=453.0, train/loss_epoch=5.560, train/perplexity_epoch=261.0]"
     ]
    },
    {
     "name": "stderr",
     "output_type": "stream",
     "text": [
      "Metric val/loss improved by 0.035 >= min_delta = 0.001. New best score: 5.952\n",
      "Epoch 19, global step 2700: 'val/loss' reached 5.95236 (best 5.95236), saving model to 'C:\\\\code\\\\data_science\\\\demo_llm\\\\checkpoints\\\\transformer_lm-epoch=19-val_loss=5.952.ckpt' as top 1\n"
     ]
    },
    {
     "name": "stdout",
     "output_type": "stream",
     "text": [
      "Epoch 20: 100%|██████████| 135/135 [00:12<00:00, 10.40it/s, v_num=28, train/loss_step=5.470, train/perplexity_step=238.0, val/loss=5.920, val/perplexity=445.0, train/loss_epoch=5.470, train/perplexity_epoch=239.0]"
     ]
    },
    {
     "name": "stderr",
     "output_type": "stream",
     "text": [
      "Metric val/loss improved by 0.037 >= min_delta = 0.001. New best score: 5.915\n",
      "Epoch 20, global step 2835: 'val/loss' reached 5.91535 (best 5.91535), saving model to 'C:\\\\code\\\\data_science\\\\demo_llm\\\\checkpoints\\\\transformer_lm-epoch=20-val_loss=5.915.ckpt' as top 1\n"
     ]
    },
    {
     "name": "stdout",
     "output_type": "stream",
     "text": [
      "Epoch 21: 100%|██████████| 135/135 [00:12<00:00, 10.73it/s, v_num=28, train/loss_step=5.270, train/perplexity_step=195.0, val/loss=5.870, val/perplexity=438.0, train/loss_epoch=5.370, train/perplexity_epoch=216.0]"
     ]
    },
    {
     "name": "stderr",
     "output_type": "stream",
     "text": [
      "Metric val/loss improved by 0.043 >= min_delta = 0.001. New best score: 5.873\n",
      "Epoch 21, global step 2970: 'val/loss' reached 5.87253 (best 5.87253), saving model to 'C:\\\\code\\\\data_science\\\\demo_llm\\\\checkpoints\\\\transformer_lm-epoch=21-val_loss=5.873.ckpt' as top 1\n"
     ]
    },
    {
     "name": "stdout",
     "output_type": "stream",
     "text": [
      "Epoch 22: 100%|██████████| 135/135 [00:13<00:00, 10.31it/s, v_num=28, train/loss_step=5.300, train/perplexity_step=200.0, val/loss=5.840, val/perplexity=433.0, train/loss_epoch=5.270, train/perplexity_epoch=195.0]"
     ]
    },
    {
     "name": "stderr",
     "output_type": "stream",
     "text": [
      "Metric val/loss improved by 0.036 >= min_delta = 0.001. New best score: 5.836\n",
      "Epoch 22, global step 3105: 'val/loss' reached 5.83605 (best 5.83605), saving model to 'C:\\\\code\\\\data_science\\\\demo_llm\\\\checkpoints\\\\transformer_lm-epoch=22-val_loss=5.836.ckpt' as top 1\n"
     ]
    },
    {
     "name": "stdout",
     "output_type": "stream",
     "text": [
      "Epoch 23: 100%|██████████| 135/135 [00:13<00:00, 10.38it/s, v_num=28, train/loss_step=5.140, train/perplexity_step=170.0, val/loss=5.800, val/perplexity=429.0, train/loss_epoch=5.170, train/perplexity_epoch=176.0]"
     ]
    },
    {
     "name": "stderr",
     "output_type": "stream",
     "text": [
      "Metric val/loss improved by 0.034 >= min_delta = 0.001. New best score: 5.802\n",
      "Epoch 23, global step 3240: 'val/loss' reached 5.80157 (best 5.80157), saving model to 'C:\\\\code\\\\data_science\\\\demo_llm\\\\checkpoints\\\\transformer_lm-epoch=23-val_loss=5.802.ckpt' as top 1\n"
     ]
    },
    {
     "name": "stdout",
     "output_type": "stream",
     "text": [
      "Epoch 24: 100%|██████████| 135/135 [00:13<00:00, 10.33it/s, v_num=28, train/loss_step=5.030, train/perplexity_step=153.0, val/loss=5.780, val/perplexity=431.0, train/loss_epoch=5.080, train/perplexity_epoch=161.0]"
     ]
    },
    {
     "name": "stderr",
     "output_type": "stream",
     "text": [
      "Metric val/loss improved by 0.019 >= min_delta = 0.001. New best score: 5.783\n",
      "Epoch 24, global step 3375: 'val/loss' reached 5.78255 (best 5.78255), saving model to 'C:\\\\code\\\\data_science\\\\demo_llm\\\\checkpoints\\\\transformer_lm-epoch=24-val_loss=5.783.ckpt' as top 1\n"
     ]
    },
    {
     "name": "stdout",
     "output_type": "stream",
     "text": [
      "Epoch 25: 100%|██████████| 135/135 [00:13<00:00, 10.34it/s, v_num=28, train/loss_step=4.890, train/perplexity_step=133.0, val/loss=5.760, val/perplexity=429.0, train/loss_epoch=5.010, train/perplexity_epoch=151.0]"
     ]
    },
    {
     "name": "stderr",
     "output_type": "stream",
     "text": [
      "Metric val/loss improved by 0.018 >= min_delta = 0.001. New best score: 5.764\n",
      "Epoch 25, global step 3510: 'val/loss' reached 5.76441 (best 5.76441), saving model to 'C:\\\\code\\\\data_science\\\\demo_llm\\\\checkpoints\\\\transformer_lm-epoch=25-val_loss=5.764.ckpt' as top 1\n"
     ]
    },
    {
     "name": "stdout",
     "output_type": "stream",
     "text": [
      "Epoch 26: 100%|██████████| 135/135 [00:13<00:00,  9.65it/s, v_num=28, train/loss_step=5.000, train/perplexity_step=148.0, val/loss=5.760, val/perplexity=432.0, train/loss_epoch=4.970, train/perplexity_epoch=144.0]"
     ]
    },
    {
     "name": "stderr",
     "output_type": "stream",
     "text": [
      "Metric val/loss improved by 0.009 >= min_delta = 0.001. New best score: 5.755\n",
      "Epoch 26, global step 3645: 'val/loss' reached 5.75550 (best 5.75550), saving model to 'C:\\\\code\\\\data_science\\\\demo_llm\\\\checkpoints\\\\transformer_lm-epoch=26-val_loss=5.755.ckpt' as top 1\n"
     ]
    },
    {
     "name": "stdout",
     "output_type": "stream",
     "text": [
      "Epoch 27: 100%|██████████| 135/135 [00:14<00:00,  9.40it/s, v_num=28, train/loss_step=4.920, train/perplexity_step=137.0, val/loss=5.750, val/perplexity=431.0, train/loss_epoch=4.940, train/perplexity_epoch=140.0]"
     ]
    },
    {
     "name": "stderr",
     "output_type": "stream",
     "text": [
      "Metric val/loss improved by 0.004 >= min_delta = 0.001. New best score: 5.752\n",
      "Epoch 27, global step 3780: 'val/loss' reached 5.75176 (best 5.75176), saving model to 'C:\\\\code\\\\data_science\\\\demo_llm\\\\checkpoints\\\\transformer_lm-epoch=27-val_loss=5.752.ckpt' as top 1\n"
     ]
    },
    {
     "name": "stdout",
     "output_type": "stream",
     "text": [
      "Epoch 28: 100%|██████████| 135/135 [00:14<00:00,  9.55it/s, v_num=28, train/loss_step=4.900, train/perplexity_step=134.0, val/loss=5.750, val/perplexity=431.0, train/loss_epoch=4.930, train/perplexity_epoch=138.0]"
     ]
    },
    {
     "name": "stderr",
     "output_type": "stream",
     "text": [
      "Metric val/loss improved by 0.002 >= min_delta = 0.001. New best score: 5.750\n",
      "Epoch 28, global step 3915: 'val/loss' reached 5.74995 (best 5.74995), saving model to 'C:\\\\code\\\\data_science\\\\demo_llm\\\\checkpoints\\\\transformer_lm-epoch=28-val_loss=5.750.ckpt' as top 1\n"
     ]
    },
    {
     "name": "stdout",
     "output_type": "stream",
     "text": [
      "Epoch 29: 100%|██████████| 135/135 [00:13<00:00,  9.65it/s, v_num=28, train/loss_step=5.000, train/perplexity_step=149.0, val/loss=5.750, val/perplexity=431.0, train/loss_epoch=4.920, train/perplexity_epoch=138.0]"
     ]
    },
    {
     "name": "stderr",
     "output_type": "stream",
     "text": [
      "Epoch 29, global step 4050: 'val/loss' reached 5.74988 (best 5.74988), saving model to 'C:\\\\code\\\\data_science\\\\demo_llm\\\\checkpoints\\\\transformer_lm-epoch=29-val_loss=5.750.ckpt' as top 1\n"
     ]
    },
    {
     "name": "stdout",
     "output_type": "stream",
     "text": [
      "Epoch 30: 100%|██████████| 135/135 [00:13<00:00,  9.69it/s, v_num=28, train/loss_step=4.900, train/perplexity_step=134.0, val/loss=5.750, val/perplexity=431.0, train/loss_epoch=4.920, train/perplexity_epoch=138.0]"
     ]
    },
    {
     "name": "stderr",
     "output_type": "stream",
     "text": [
      "Metric val/loss improved by 0.001 >= min_delta = 0.001. New best score: 5.749\n",
      "Epoch 30, global step 4185: 'val/loss' reached 5.74878 (best 5.74878), saving model to 'C:\\\\code\\\\data_science\\\\demo_llm\\\\checkpoints\\\\transformer_lm-epoch=30-val_loss=5.749.ckpt' as top 1\n"
     ]
    },
    {
     "name": "stdout",
     "output_type": "stream",
     "text": [
      "Epoch 31: 100%|██████████| 135/135 [00:14<00:00,  9.57it/s, v_num=28, train/loss_step=4.930, train/perplexity_step=139.0, val/loss=5.750, val/perplexity=431.0, train/loss_epoch=4.920, train/perplexity_epoch=137.0]"
     ]
    },
    {
     "name": "stderr",
     "output_type": "stream",
     "text": [
      "Metric val/loss improved by 0.002 >= min_delta = 0.001. New best score: 5.746\n",
      "Epoch 31, global step 4320: 'val/loss' reached 5.74629 (best 5.74629), saving model to 'C:\\\\code\\\\data_science\\\\demo_llm\\\\checkpoints\\\\transformer_lm-epoch=31-val_loss=5.746.ckpt' as top 1\n"
     ]
    },
    {
     "name": "stdout",
     "output_type": "stream",
     "text": [
      "Epoch 32: 100%|██████████| 135/135 [00:14<00:00,  9.24it/s, v_num=28, train/loss_step=4.820, train/perplexity_step=124.0, val/loss=5.740, val/perplexity=435.0, train/loss_epoch=4.900, train/perplexity_epoch=134.0]"
     ]
    },
    {
     "name": "stderr",
     "output_type": "stream",
     "text": [
      "Metric val/loss improved by 0.003 >= min_delta = 0.001. New best score: 5.743\n",
      "Epoch 32, global step 4455: 'val/loss' reached 5.74295 (best 5.74295), saving model to 'C:\\\\code\\\\data_science\\\\demo_llm\\\\checkpoints\\\\transformer_lm-epoch=32-val_loss=5.743.ckpt' as top 1\n"
     ]
    },
    {
     "name": "stdout",
     "output_type": "stream",
     "text": [
      "Epoch 33: 100%|██████████| 135/135 [00:14<00:00,  9.43it/s, v_num=28, train/loss_step=4.790, train/perplexity_step=121.0, val/loss=5.730, val/perplexity=439.0, train/loss_epoch=4.860, train/perplexity_epoch=129.0]"
     ]
    },
    {
     "name": "stderr",
     "output_type": "stream",
     "text": [
      "Metric val/loss improved by 0.009 >= min_delta = 0.001. New best score: 5.734\n",
      "Epoch 33, global step 4590: 'val/loss' reached 5.73440 (best 5.73440), saving model to 'C:\\\\code\\\\data_science\\\\demo_llm\\\\checkpoints\\\\transformer_lm-epoch=33-val_loss=5.734.ckpt' as top 1\n"
     ]
    },
    {
     "name": "stdout",
     "output_type": "stream",
     "text": [
      "Epoch 34: 100%|██████████| 135/135 [00:15<00:00,  8.74it/s, v_num=28, train/loss_step=4.800, train/perplexity_step=121.0, val/loss=5.730, val/perplexity=445.0, train/loss_epoch=4.810, train/perplexity_epoch=123.0]"
     ]
    },
    {
     "name": "stderr",
     "output_type": "stream",
     "text": [
      "Metric val/loss improved by 0.009 >= min_delta = 0.001. New best score: 5.725\n",
      "Epoch 34, global step 4725: 'val/loss' reached 5.72540 (best 5.72540), saving model to 'C:\\\\code\\\\data_science\\\\demo_llm\\\\checkpoints\\\\transformer_lm-epoch=34-val_loss=5.725.ckpt' as top 1\n"
     ]
    },
    {
     "name": "stdout",
     "output_type": "stream",
     "text": [
      "Epoch 35: 100%|██████████| 135/135 [00:14<00:00,  9.06it/s, v_num=28, train/loss_step=4.700, train/perplexity_step=110.0, val/loss=5.720, val/perplexity=452.0, train/loss_epoch=4.740, train/perplexity_epoch=115.0]"
     ]
    },
    {
     "name": "stderr",
     "output_type": "stream",
     "text": [
      "Metric val/loss improved by 0.010 >= min_delta = 0.001. New best score: 5.716\n",
      "Epoch 35, global step 4860: 'val/loss' reached 5.71556 (best 5.71556), saving model to 'C:\\\\code\\\\data_science\\\\demo_llm\\\\checkpoints\\\\transformer_lm-epoch=35-val_loss=5.716.ckpt' as top 1\n"
     ]
    },
    {
     "name": "stdout",
     "output_type": "stream",
     "text": [
      "Epoch 36: 100%|██████████| 135/135 [00:14<00:00,  9.63it/s, v_num=28, train/loss_step=4.660, train/perplexity_step=106.0, val/loss=5.710, val/perplexity=466.0, train/loss_epoch=4.670, train/perplexity_epoch=107.0]"
     ]
    },
    {
     "name": "stderr",
     "output_type": "stream",
     "text": [
      "Metric val/loss improved by 0.007 >= min_delta = 0.001. New best score: 5.709\n",
      "Epoch 36, global step 4995: 'val/loss' reached 5.70870 (best 5.70870), saving model to 'C:\\\\code\\\\data_science\\\\demo_llm\\\\checkpoints\\\\transformer_lm-epoch=36-val_loss=5.709.ckpt' as top 1\n"
     ]
    },
    {
     "name": "stdout",
     "output_type": "stream",
     "text": [
      "Epoch 37: 100%|██████████| 135/135 [00:14<00:00,  9.63it/s, v_num=28, train/loss_step=4.740, train/perplexity_step=115.0, val/loss=5.700, val/perplexity=467.0, train/loss_epoch=4.600, train/perplexity_epoch=99.20]"
     ]
    },
    {
     "name": "stderr",
     "output_type": "stream",
     "text": [
      "Metric val/loss improved by 0.011 >= min_delta = 0.001. New best score: 5.698\n",
      "Epoch 37, global step 5130: 'val/loss' reached 5.69783 (best 5.69783), saving model to 'C:\\\\code\\\\data_science\\\\demo_llm\\\\checkpoints\\\\transformer_lm-epoch=37-val_loss=5.698.ckpt' as top 1\n"
     ]
    },
    {
     "name": "stdout",
     "output_type": "stream",
     "text": [
      "Epoch 38: 100%|██████████| 135/135 [00:13<00:00, 10.11it/s, v_num=28, train/loss_step=4.530, train/perplexity_step=92.80, val/loss=5.690, val/perplexity=487.0, train/loss_epoch=4.520, train/perplexity_epoch=92.20]"
     ]
    },
    {
     "name": "stderr",
     "output_type": "stream",
     "text": [
      "Metric val/loss improved by 0.005 >= min_delta = 0.001. New best score: 5.693\n",
      "Epoch 38, global step 5265: 'val/loss' reached 5.69304 (best 5.69304), saving model to 'C:\\\\code\\\\data_science\\\\demo_llm\\\\checkpoints\\\\transformer_lm-epoch=38-val_loss=5.693.ckpt' as top 1\n"
     ]
    },
    {
     "name": "stdout",
     "output_type": "stream",
     "text": [
      "Epoch 39: 100%|██████████| 135/135 [00:12<00:00, 10.52it/s, v_num=28, train/loss_step=4.570, train/perplexity_step=96.50, val/loss=5.690, val/perplexity=497.0, train/loss_epoch=4.460, train/perplexity_epoch=86.70]"
     ]
    },
    {
     "name": "stderr",
     "output_type": "stream",
     "text": [
      "Metric val/loss improved by 0.003 >= min_delta = 0.001. New best score: 5.690\n",
      "Epoch 39, global step 5400: 'val/loss' reached 5.69006 (best 5.69006), saving model to 'C:\\\\code\\\\data_science\\\\demo_llm\\\\checkpoints\\\\transformer_lm-epoch=39-val_loss=5.690.ckpt' as top 1\n"
     ]
    },
    {
     "name": "stdout",
     "output_type": "stream",
     "text": [
      "Epoch 40: 100%|██████████| 135/135 [00:12<00:00, 10.70it/s, v_num=28, train/loss_step=4.490, train/perplexity_step=89.20, val/loss=5.690, val/perplexity=502.0, train/loss_epoch=4.410, train/perplexity_epoch=82.60]"
     ]
    },
    {
     "name": "stderr",
     "output_type": "stream",
     "text": [
      "Metric val/loss improved by 0.004 >= min_delta = 0.001. New best score: 5.686\n",
      "Epoch 40, global step 5535: 'val/loss' reached 5.68623 (best 5.68623), saving model to 'C:\\\\code\\\\data_science\\\\demo_llm\\\\checkpoints\\\\transformer_lm-epoch=40-val_loss=5.686.ckpt' as top 1\n"
     ]
    },
    {
     "name": "stdout",
     "output_type": "stream",
     "text": [
      "Epoch 41: 100%|██████████| 135/135 [00:13<00:00, 10.29it/s, v_num=28, train/loss_step=4.520, train/perplexity_step=91.60, val/loss=5.690, val/perplexity=510.0, train/loss_epoch=4.380, train/perplexity_epoch=80.00]"
     ]
    },
    {
     "name": "stderr",
     "output_type": "stream",
     "text": [
      "Epoch 41, global step 5670: 'val/loss' was not in top 1\n"
     ]
    },
    {
     "name": "stdout",
     "output_type": "stream",
     "text": [
      "Epoch 42: 100%|██████████| 135/135 [00:13<00:00, 10.20it/s, v_num=28, train/loss_step=4.370, train/perplexity_step=79.40, val/loss=5.690, val/perplexity=512.0, train/loss_epoch=4.360, train/perplexity_epoch=78.60]"
     ]
    },
    {
     "name": "stderr",
     "output_type": "stream",
     "text": [
      "Epoch 42, global step 5805: 'val/loss' was not in top 1\n"
     ]
    },
    {
     "name": "stdout",
     "output_type": "stream",
     "text": [
      "Epoch 43: 100%|██████████| 135/135 [00:13<00:00,  9.83it/s, v_num=28, train/loss_step=4.370, train/perplexity_step=79.00, val/loss=5.690, val/perplexity=513.0, train/loss_epoch=4.360, train/perplexity_epoch=78.10]"
     ]
    },
    {
     "name": "stderr",
     "output_type": "stream",
     "text": [
      "Epoch 43, global step 5940: 'val/loss' was not in top 1\n"
     ]
    },
    {
     "name": "stdout",
     "output_type": "stream",
     "text": [
      "Epoch 44: 100%|██████████| 135/135 [00:13<00:00,  9.79it/s, v_num=28, train/loss_step=4.300, train/perplexity_step=73.50, val/loss=5.690, val/perplexity=514.0, train/loss_epoch=4.350, train/perplexity_epoch=77.90]"
     ]
    },
    {
     "name": "stderr",
     "output_type": "stream",
     "text": [
      "Epoch 44, global step 6075: 'val/loss' was not in top 1\n"
     ]
    },
    {
     "name": "stdout",
     "output_type": "stream",
     "text": [
      "Epoch 45: 100%|██████████| 135/135 [00:13<00:00,  9.91it/s, v_num=28, train/loss_step=4.350, train/perplexity_step=77.50, val/loss=5.690, val/perplexity=515.0, train/loss_epoch=4.350, train/perplexity_epoch=78.00]"
     ]
    },
    {
     "name": "stderr",
     "output_type": "stream",
     "text": [
      "Epoch 45, global step 6210: 'val/loss' was not in top 1\n"
     ]
    },
    {
     "name": "stdout",
     "output_type": "stream",
     "text": [
      "Epoch 46: 100%|██████████| 135/135 [00:14<00:00,  9.43it/s, v_num=28, train/loss_step=4.390, train/perplexity_step=80.50, val/loss=5.690, val/perplexity=518.0, train/loss_epoch=4.350, train/perplexity_epoch=77.50]"
     ]
    },
    {
     "name": "stderr",
     "output_type": "stream",
     "text": [
      "Epoch 46, global step 6345: 'val/loss' was not in top 1\n"
     ]
    },
    {
     "name": "stdout",
     "output_type": "stream",
     "text": [
      "Epoch 47: 100%|██████████| 135/135 [00:14<00:00,  9.11it/s, v_num=28, train/loss_step=4.280, train/perplexity_step=72.10, val/loss=5.690, val/perplexity=523.0, train/loss_epoch=4.330, train/perplexity_epoch=76.00]"
     ]
    },
    {
     "name": "stderr",
     "output_type": "stream",
     "text": [
      "Epoch 47, global step 6480: 'val/loss' was not in top 1\n"
     ]
    },
    {
     "name": "stdout",
     "output_type": "stream",
     "text": [
      "Epoch 48: 100%|██████████| 135/135 [00:12<00:00, 10.41it/s, v_num=28, train/loss_step=4.380, train/perplexity_step=79.90, val/loss=5.690, val/perplexity=538.0, train/loss_epoch=4.300, train/perplexity_epoch=74.00]"
     ]
    },
    {
     "name": "stderr",
     "output_type": "stream",
     "text": [
      "Epoch 48, global step 6615: 'val/loss' was not in top 1\n"
     ]
    },
    {
     "name": "stdout",
     "output_type": "stream",
     "text": [
      "Epoch 49: 100%|██████████| 135/135 [00:12<00:00, 10.73it/s, v_num=28, train/loss_step=4.410, train/perplexity_step=82.20, val/loss=5.690, val/perplexity=546.0, train/loss_epoch=4.260, train/perplexity_epoch=71.00]"
     ]
    },
    {
     "name": "stderr",
     "output_type": "stream",
     "text": [
      "Epoch 49, global step 6750: 'val/loss' was not in top 1\n"
     ]
    },
    {
     "name": "stdout",
     "output_type": "stream",
     "text": [
      "Epoch 50: 100%|██████████| 135/135 [00:12<00:00, 10.68it/s, v_num=28, train/loss_step=4.060, train/perplexity_step=58.10, val/loss=5.700, val/perplexity=564.0, train/loss_epoch=4.210, train/perplexity_epoch=67.60]"
     ]
    },
    {
     "name": "stderr",
     "output_type": "stream",
     "text": [
      "Monitored metric val/loss did not improve in the last 10 records. Best score: 5.686. Signaling Trainer to stop.\n",
      "Epoch 50, global step 6885: 'val/loss' was not in top 1\n"
     ]
    },
    {
     "name": "stdout",
     "output_type": "stream",
     "text": [
      "Epoch 50: 100%|██████████| 135/135 [00:12<00:00, 10.65it/s, v_num=28, train/loss_step=4.060, train/perplexity_step=58.10, val/loss=5.700, val/perplexity=564.0, train/loss_epoch=4.210, train/perplexity_epoch=67.60]\n"
     ]
    }
   ],
   "source": [
    "# Train model\n",
    "print(\"\\nStarting training...\")\n",
    "print(\"With the updated parameters:\")\n",
    "print(f\"- Sequence length: {sequence_length}\")\n",
    "print(f\"- Train split: {train_split}\")\n",
    "print(f\"- Val split: {val_split}\")\n",
    "print(f\"- Monitor: {monitor}\")\n",
    "print()\n",
    "\n",
    "trainer.fit(model, data_module)"
   ]
  },
  {
   "cell_type": "code",
   "execution_count": 21,
   "id": "ad9ed8e8",
   "metadata": {},
   "outputs": [
    {
     "name": "stdout",
     "output_type": "stream",
     "text": [
      "\n",
      "Testing model...\n",
      "Testing DataLoader 0: 100%|██████████| 19/19 [00:00<00:00, 53.89it/s]\n"
     ]
    },
    {
     "data": {
      "text/html": [
       "<pre style=\"white-space:pre;overflow-x:auto;line-height:normal;font-family:Menlo,'DejaVu Sans Mono',consolas,'Courier New',monospace\">┏━━━━━━━━━━━━━━━━━━━━━━━━━━━┳━━━━━━━━━━━━━━━━━━━━━━━━━━━┓\n",
       "┃<span style=\"font-weight: bold\">        Test metric        </span>┃<span style=\"font-weight: bold\">       DataLoader 0        </span>┃\n",
       "┡━━━━━━━━━━━━━━━━━━━━━━━━━━━╇━━━━━━━━━━━━━━━━━━━━━━━━━━━┩\n",
       "│<span style=\"color: #008080; text-decoration-color: #008080\">         test/loss         </span>│<span style=\"color: #800080; text-decoration-color: #800080\">     4.971528053283691     </span>│\n",
       "└───────────────────────────┴───────────────────────────┘\n",
       "</pre>\n"
      ],
      "text/plain": [
       "┏━━━━━━━━━━━━━━━━━━━━━━━━━━━┳━━━━━━━━━━━━━━━━━━━━━━━━━━━┓\n",
       "┃\u001b[1m \u001b[0m\u001b[1m       Test metric       \u001b[0m\u001b[1m \u001b[0m┃\u001b[1m \u001b[0m\u001b[1m      DataLoader 0       \u001b[0m\u001b[1m \u001b[0m┃\n",
       "┡━━━━━━━━━━━━━━━━━━━━━━━━━━━╇━━━━━━━━━━━━━━━━━━━━━━━━━━━┩\n",
       "│\u001b[36m \u001b[0m\u001b[36m        test/loss        \u001b[0m\u001b[36m \u001b[0m│\u001b[35m \u001b[0m\u001b[35m    4.971528053283691    \u001b[0m\u001b[35m \u001b[0m│\n",
       "└───────────────────────────┴───────────────────────────┘\n"
      ]
     },
     "metadata": {},
     "output_type": "display_data"
    },
    {
     "name": "stdout",
     "output_type": "stream",
     "text": [
      "Final model saved to ./checkpoints\\transformer_lm-final.ckpt\n"
     ]
    }
   ],
   "source": [
    "# Test model\n",
    "print(\"\\nTesting model...\")\n",
    "trainer.test(model, data_module)\n",
    "\n",
    "# Save final model\n",
    "final_model_path = os.path.join(save_dir, f\"{experiment_name}-final.ckpt\")\n",
    "trainer.save_checkpoint(final_model_path)\n",
    "print(f\"Final model saved to {final_model_path}\")"
   ]
  },
  {
   "cell_type": "code",
   "execution_count": 22,
   "id": "b3dc3ed9",
   "metadata": {},
   "outputs": [
    {
     "name": "stdout",
     "output_type": "stream",
     "text": [
      "\n",
      "Training completed!\n",
      "Checkpoints saved in: ./checkpoints\n",
      "Logs saved in: ./logs\n",
      "Vocabulary saved in: ./checkpoints\\vocab.pkl\n",
      "Best model: C:\\code\\data_science\\demo_llm\\checkpoints\\transformer_lm-epoch=40-val_loss=5.686.ckpt\n",
      "Best score: 5.686227798461914\n",
      "\n",
      "==================================================\n",
      "To run the Gradio app with your trained model:\n",
      "python -m src.app.gradio_app --model_path C:\\code\\data_science\\demo_llm\\checkpoints\\transformer_lm-epoch=40-val_loss=5.686.ckpt --vocab_path ./checkpoints\\vocab.pkl\n",
      "==================================================\n"
     ]
    }
   ],
   "source": [
    "print(\"\\nTraining completed!\")\n",
    "print(f\"Checkpoints saved in: {save_dir}\")\n",
    "print(f\"Logs saved in: {log_dir}\")\n",
    "print(f\"Vocabulary saved in: {vocab_path}\")\n",
    "print(f\"Best model: {checkpoint_callback.best_model_path}\")\n",
    "print(f\"Best score: {checkpoint_callback.best_model_score}\")\n",
    "\n",
    "# Print instructions for running the app\n",
    "print(\"\\n\" + \"=\"*50)\n",
    "print(\"To run the Gradio app with your trained model:\")\n",
    "print(f\"python -m src.app.gradio_app --model_path {checkpoint_callback.best_model_path} --vocab_path {vocab_path}\")\n",
    "print(\"=\"*50)"
   ]
  },
  {
   "cell_type": "code",
   "execution_count": null,
   "id": "2e43b33a",
   "metadata": {},
   "outputs": [],
   "source": []
  }
 ],
 "metadata": {
  "kernelspec": {
   "display_name": ".venv",
   "language": "python",
   "name": "python3"
  },
  "language_info": {
   "codemirror_mode": {
    "name": "ipython",
    "version": 3
   },
   "file_extension": ".py",
   "mimetype": "text/x-python",
   "name": "python",
   "nbconvert_exporter": "python",
   "pygments_lexer": "ipython3",
   "version": "3.11.0"
  }
 },
 "nbformat": 4,
 "nbformat_minor": 5
}
